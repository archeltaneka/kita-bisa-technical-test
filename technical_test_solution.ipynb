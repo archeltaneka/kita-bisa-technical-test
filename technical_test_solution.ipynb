{
 "cells": [
  {
   "cell_type": "markdown",
   "metadata": {},
   "source": [
    "I. Ainun has 20 cakes and 25 apples. She wants to bundle those cakes and apples into boxes and give them to her friends. <b>How many boxes that Ainun can make? And how many cakes and apples does every box have?</b>\n",
    "<ol type=\"A\">\n",
    "    <li>Solve this problem using language you know and confident</li>\n",
    "    <li>Create function to count boxes Ainun can make</li>\n",
    "    <li>Create function to count how many cake and apple in a box</li>\n",
    "    <li>Create unit test for the function</li>\n",
    "    <li>Apples and cakes divided evenly every box</li>\n",
    "    <li>Don’t forget to make documentation</li>\n",
    "</ol>"
   ]
  },
  {
   "cell_type": "code",
   "execution_count": null,
   "metadata": {},
   "outputs": [],
   "source": []
  },
  {
   "cell_type": "code",
   "execution_count": null,
   "metadata": {},
   "outputs": [],
   "source": []
  },
  {
   "cell_type": "markdown",
   "metadata": {},
   "source": [
    "II. Please explain the relationship between <b>Probability</b> and <b>Statistical Inference</b> and how it can be implemented in your company (the case can be anything as long it is related to your company business)."
   ]
  },
  {
   "cell_type": "code",
   "execution_count": null,
   "metadata": {},
   "outputs": [],
   "source": []
  },
  {
   "cell_type": "code",
   "execution_count": null,
   "metadata": {},
   "outputs": [],
   "source": []
  },
  {
   "cell_type": "markdown",
   "metadata": {},
   "source": [
    "<b>Please create a simple machine learning pipeline</b> that will give user recommendation (1 user at least has 100 product recommendation) and save the recommendation to PostgreSQL using this <a href='https://nijianmo.github.io/amazon/index.html'>Amazon Dataset</a> and upload it in your github page. You will be grade not for the machine learning algorithm / model but for the pipeline performance (eg. processing time, no of data processed)."
   ]
  },
  {
   "cell_type": "code",
   "execution_count": null,
   "metadata": {},
   "outputs": [],
   "source": []
  }
 ],
 "metadata": {
  "kernelspec": {
   "display_name": "Python 3",
   "language": "python",
   "name": "python3"
  },
  "language_info": {
   "codemirror_mode": {
    "name": "ipython",
    "version": 3
   },
   "file_extension": ".py",
   "mimetype": "text/x-python",
   "name": "python",
   "nbconvert_exporter": "python",
   "pygments_lexer": "ipython3",
   "version": "3.8.5"
  }
 },
 "nbformat": 4,
 "nbformat_minor": 4
}
