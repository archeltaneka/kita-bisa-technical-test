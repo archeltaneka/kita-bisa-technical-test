{
 "cells": [
  {
   "cell_type": "markdown",
   "metadata": {},
   "source": [
    "# Problem III\n",
    "\n",
    "<b>Please create a simple machine learning pipeline</b> that will give user recommendation (1 user at least has 100 product recommendation) and save the recommendation to PostgreSQL using this <a href='https://nijianmo.github.io/amazon/index.html'>Amazon Dataset</a> and upload it in your github page. You will be grade not for the machine learning algorithm / model but for the pipeline performance (eg. processing time, no of data processed)."
   ]
  },
  {
   "cell_type": "markdown",
   "metadata": {},
   "source": [
    "## Brief Introducttion\n",
    "Recommendation systems have been widely used in product recommendations such as in Netflix, Amazon, Spotify, etc. In general, there are 2 methods for building a basic recommender systems:\n",
    "1. Collaborative Filtering\n",
    "2. Content-based Filtering\n",
    "\n",
    "The method/algorithm I am going to use here is collaborative filtering. Collaborative filtering filters the interest of a user on a specific product by gathering/collecting information from other similar users.<br>\n",
    "`If person A shares a similar opinion with person B, then person A is more likely to share person B's opinion on another issue than a random person`<br>\n",
    "On the other hand, content-based filtering makes use of features/attributes to recommend products similar to the user liking based on other users' previous actions or explicit feedbacks.<br><br>\n",
    "\n",
    "I will use the Amazon dataset provided from the link above, but i only use the 'Gift Cards' sub-dataset which contains about 147k rows for cheap and faster implementation. (The whole dataset is about 233.1 million records, which is roughly 34GB). Using the whole dataset would be too expensive, slower, and longer model training and implementation."
   ]
  },
  {
   "cell_type": "markdown",
   "metadata": {},
   "source": [
    "## Solution\n",
    "\n",
    "### 1. Load and Preprocess Dataset\n",
    "Since the dataset is in .gzip format, use gzip and json libraries from Python to load the dataset"
   ]
  },
  {
   "cell_type": "code",
   "execution_count": 25,
   "metadata": {},
   "outputs": [],
   "source": [
    "import numpy as np\n",
    "import pandas as pd\n",
    "import gzip # read .gzip files\n",
    "import json # take care of json formatted contents"
   ]
  },
  {
   "cell_type": "code",
   "execution_count": 26,
   "metadata": {},
   "outputs": [],
   "source": [
    "def parse(path):\n",
    "    \"\"\"\n",
    "    Read a .gzip file and parse its JSON contents\n",
    "    \n",
    "    # Arguments:\n",
    "        path: string, absolute path to the dataset\n",
    "        \n",
    "    # Outputs:\n",
    "        json_content: dict, the parsed JSON content\n",
    "    \n",
    "    \"\"\"\n",
    "    \n",
    "    g = gzip.open(path, 'rb')\n",
    "    for l in g:\n",
    "        json_content = json.loads(l)\n",
    "        \n",
    "        yield json_content\n",
    "\n",
    "def getDF(path):\n",
    "    \"\"\"\n",
    "    Create a DataFrame from JSON content\n",
    "    \n",
    "    # Arguments:\n",
    "        path: string, absolute path to the dataset\n",
    "    \n",
    "    # Returns:\n",
    "        df: pandas.DataFrame, the loaded dataset in a DataFrame format\n",
    "    \n",
    "    \"\"\"\n",
    "    \n",
    "    i = 0\n",
    "    df = {}\n",
    "    \n",
    "    for d in parse(path):\n",
    "        df[i] = d\n",
    "    \n",
    "        i += 1\n",
    "      \n",
    "    return pd.DataFrame.from_dict(df, orient='index')"
   ]
  },
  {
   "cell_type": "code",
   "execution_count": 49,
   "metadata": {},
   "outputs": [
    {
     "name": "stdout",
     "output_type": "stream",
     "text": [
      "Number of observations: 147194\n",
      "First 5 rows:\n"
     ]
    },
    {
     "data": {
      "text/html": [
       "<div>\n",
       "<style scoped>\n",
       "    .dataframe tbody tr th:only-of-type {\n",
       "        vertical-align: middle;\n",
       "    }\n",
       "\n",
       "    .dataframe tbody tr th {\n",
       "        vertical-align: top;\n",
       "    }\n",
       "\n",
       "    .dataframe thead th {\n",
       "        text-align: right;\n",
       "    }\n",
       "</style>\n",
       "<table border=\"1\" class=\"dataframe\">\n",
       "  <thead>\n",
       "    <tr style=\"text-align: right;\">\n",
       "      <th></th>\n",
       "      <th>overall</th>\n",
       "      <th>vote</th>\n",
       "      <th>verified</th>\n",
       "      <th>reviewTime</th>\n",
       "      <th>reviewerID</th>\n",
       "      <th>asin</th>\n",
       "      <th>style</th>\n",
       "      <th>reviewerName</th>\n",
       "      <th>reviewText</th>\n",
       "      <th>summary</th>\n",
       "      <th>unixReviewTime</th>\n",
       "      <th>image</th>\n",
       "    </tr>\n",
       "  </thead>\n",
       "  <tbody>\n",
       "    <tr>\n",
       "      <th>0</th>\n",
       "      <td>1.0</td>\n",
       "      <td>25</td>\n",
       "      <td>False</td>\n",
       "      <td>12 19, 2008</td>\n",
       "      <td>APV13CM0919JD</td>\n",
       "      <td>B001GXRQW0</td>\n",
       "      <td>{'Gift Amount:': ' 50'}</td>\n",
       "      <td>LEH</td>\n",
       "      <td>Amazon,\\nI am shopping for Amazon.com gift car...</td>\n",
       "      <td>Merry Christmas.</td>\n",
       "      <td>1229644800</td>\n",
       "      <td>NaN</td>\n",
       "    </tr>\n",
       "    <tr>\n",
       "      <th>1</th>\n",
       "      <td>5.0</td>\n",
       "      <td>NaN</td>\n",
       "      <td>False</td>\n",
       "      <td>12 17, 2008</td>\n",
       "      <td>A3G8U1G1V082SN</td>\n",
       "      <td>B001GXRQW0</td>\n",
       "      <td>{'Gift Amount:': ' 50'}</td>\n",
       "      <td>Tali</td>\n",
       "      <td>I got this gift card from a friend, and it was...</td>\n",
       "      <td>Gift card with best selection</td>\n",
       "      <td>1229472000</td>\n",
       "      <td>NaN</td>\n",
       "    </tr>\n",
       "    <tr>\n",
       "      <th>2</th>\n",
       "      <td>5.0</td>\n",
       "      <td>4</td>\n",
       "      <td>False</td>\n",
       "      <td>12 17, 2008</td>\n",
       "      <td>A11T2Q0EVTUWP</td>\n",
       "      <td>B001GXRQW0</td>\n",
       "      <td>{'Gift Amount:': ' 50'}</td>\n",
       "      <td>Z</td>\n",
       "      <td>aren't we going to save trees?! :) People who ...</td>\n",
       "      <td>A convenient and great gift for the environmen...</td>\n",
       "      <td>1229472000</td>\n",
       "      <td>NaN</td>\n",
       "    </tr>\n",
       "    <tr>\n",
       "      <th>3</th>\n",
       "      <td>5.0</td>\n",
       "      <td>NaN</td>\n",
       "      <td>False</td>\n",
       "      <td>12 17, 2008</td>\n",
       "      <td>A9YKGBH3SV22C</td>\n",
       "      <td>B001GXRQW0</td>\n",
       "      <td>{'Gift Amount:': ' 25'}</td>\n",
       "      <td>Giotravels</td>\n",
       "      <td>You can always get someone something from Amaz...</td>\n",
       "      <td>Totally make sense</td>\n",
       "      <td>1229472000</td>\n",
       "      <td>NaN</td>\n",
       "    </tr>\n",
       "    <tr>\n",
       "      <th>4</th>\n",
       "      <td>1.0</td>\n",
       "      <td>NaN</td>\n",
       "      <td>True</td>\n",
       "      <td>12 17, 2008</td>\n",
       "      <td>A34WZIHVF3OKOL</td>\n",
       "      <td>B001GXRQW0</td>\n",
       "      <td>NaN</td>\n",
       "      <td>King Dad</td>\n",
       "      <td>Why take 50 dollars of good money with no limi...</td>\n",
       "      <td>Give CASH!</td>\n",
       "      <td>1229472000</td>\n",
       "      <td>NaN</td>\n",
       "    </tr>\n",
       "  </tbody>\n",
       "</table>\n",
       "</div>"
      ],
      "text/plain": [
       "   overall vote  verified   reviewTime      reviewerID        asin  \\\n",
       "0      1.0   25     False  12 19, 2008   APV13CM0919JD  B001GXRQW0   \n",
       "1      5.0  NaN     False  12 17, 2008  A3G8U1G1V082SN  B001GXRQW0   \n",
       "2      5.0    4     False  12 17, 2008   A11T2Q0EVTUWP  B001GXRQW0   \n",
       "3      5.0  NaN     False  12 17, 2008   A9YKGBH3SV22C  B001GXRQW0   \n",
       "4      1.0  NaN      True  12 17, 2008  A34WZIHVF3OKOL  B001GXRQW0   \n",
       "\n",
       "                     style reviewerName  \\\n",
       "0  {'Gift Amount:': ' 50'}          LEH   \n",
       "1  {'Gift Amount:': ' 50'}         Tali   \n",
       "2  {'Gift Amount:': ' 50'}            Z   \n",
       "3  {'Gift Amount:': ' 25'}   Giotravels   \n",
       "4                      NaN     King Dad   \n",
       "\n",
       "                                          reviewText  \\\n",
       "0  Amazon,\\nI am shopping for Amazon.com gift car...   \n",
       "1  I got this gift card from a friend, and it was...   \n",
       "2  aren't we going to save trees?! :) People who ...   \n",
       "3  You can always get someone something from Amaz...   \n",
       "4  Why take 50 dollars of good money with no limi...   \n",
       "\n",
       "                                             summary  unixReviewTime image  \n",
       "0                                   Merry Christmas.      1229644800   NaN  \n",
       "1                      Gift card with best selection      1229472000   NaN  \n",
       "2  A convenient and great gift for the environmen...      1229472000   NaN  \n",
       "3                                 Totally make sense      1229472000   NaN  \n",
       "4                                         Give CASH!      1229472000   NaN  "
      ]
     },
     "execution_count": 49,
     "metadata": {},
     "output_type": "execute_result"
    }
   ],
   "source": [
    "# load dataset\n",
    "df = getDF('data/Gift_Cards.json.gz')\n",
    "\n",
    "print(\"Number of observations:\", len(df))\n",
    "print('First 5 rows:')\n",
    "df.head()"
   ]
  },
  {
   "cell_type": "markdown",
   "metadata": {},
   "source": [
    "According to the official website, each column headers tell us about:\n",
    "<ul>\n",
    "    <li>reviewerID - ID of the reviewer, e.g. A2SUAM1J3GNN3B</li>\n",
    "    <li>asin - ID of the product, e.g. 0000013714</li>\n",
    "    <li>reviewerName - name of the reviewer</li>\n",
    "    <li>vote - helpful votes of the review</li>\n",
    "    <li>style - a disctionary of the product metadata, e.g., \"Format\" is \"Hardcover\"</li>\n",
    "    <li>reviewText - text of the review</li>\n",
    "    <li>overall - rating of the product</li>\n",
    "    <li>summary - summary of the review</li>\n",
    "    <li>unixReviewTime - time of the review (unix time)</li>\n",
    "    <li>reviewTime - time of the review (raw)</li>\n",
    "    <li>image - images that users post after they have received the product</li>\n",
    "</ul>\n",
    "\n",
    "Meanwhile, our workflow can be described as follows:\n",
    "1. A user rates an item/a product\n",
    "2. Ratings are considered as the user's level of interest/satisfaction on a specific item\n",
    "3. The system will find similar ratings from differrent users against a user\n",
    "4. Finally, the system recommends item(s) that have high ratings, but not yet rated by this user\n",
    "\n",
    "Thus, according to the workflow above, we can conclude that `overall` and `reviewerName` are the only columns that have high impact in training our recommendation system model."
   ]
  },
  {
   "cell_type": "markdown",
   "metadata": {},
   "source": [
    "### 2. Explore and Analyze Dataset\n",
    "Let's explore and analyze the data a little bit. `pandas` and `matplotlib` have provided some useful functions that I can utilize"
   ]
  },
  {
   "cell_type": "code",
   "execution_count": 48,
   "metadata": {},
   "outputs": [],
   "source": [
    "import matplotlib.pyplot as plt"
   ]
  },
  {
   "cell_type": "code",
   "execution_count": 115,
   "metadata": {},
   "outputs": [
    {
     "name": "stdout",
     "output_type": "stream",
     "text": [
      "Number of unique customers in the dataset: 97693\n",
      "Number of unique products in the dataset: 1548\n"
     ]
    }
   ],
   "source": [
    "print(\"Number of unique customers in the dataset:\", df['reviewerName'].nunique())\n",
    "print(\"Number of unique products in the dataset:\", df['asin'].nunique())"
   ]
  },
  {
   "cell_type": "code",
   "execution_count": 87,
   "metadata": {},
   "outputs": [
    {
     "name": "stdout",
     "output_type": "stream",
     "text": [
      "Rating counts against the number of reviewers\n",
      "5.0 stars: 126689 reviewers\n",
      "4.0 stars: 8700 reviewers\n",
      "1.0 stars: 7165 reviewers\n",
      "3.0 stars: 2996 reviewers\n",
      "2.0 stars: 1644 reviewers\n"
     ]
    },
    {
     "data": {
      "image/png": "[encoded data removed]",
      "text/plain": [
       "<Figure size 432x288 with 1 Axes>"
      ]
     },
     "metadata": {
      "needs_background": "light"
     },
     "output_type": "display_data"
    }
   ],
   "source": [
    "# count the number of customers who submit 1.0-5.0 stars rating\n",
    "rating_dict = df['overall'].value_counts()\n",
    "\n",
    "print('Rating counts against the number of reviewers')\n",
    "for rating in rating_dict.keys():\n",
    "    print('{} stars: {} reviewers'.format(rating, rating_dict[rating]))\n",
    "\n",
    "# plot the results into bar plots\n",
    "rating_df = pd.DataFrame({\n",
    "    'ratings': [5.0, 4.0, 3.0, 2.0, 1.0],\n",
    "    'counts': df['overall'].value_counts().values\n",
    "})\n",
    "rating_df.plot(kind='bar', x='ratings', y='counts')\n",
    "plt.show()"
   ]
  },
  {
   "cell_type": "code",
   "execution_count": 93,
   "metadata": {},
   "outputs": [],
   "source": [
    "df['year_reviewed'] = pd.to_datetime(df['unixReviewTime'], unit='s').dt.year"
   ]
  },
  {
   "cell_type": "code",
   "execution_count": 114,
   "metadata": {},
   "outputs": [
    {
     "name": "stdout",
     "output_type": "stream",
     "text": [
      "Customer count against the years the ratings are submitted\n",
      "Year 2016: 33159 reviewers\n",
      "Year 2015: 26927 reviewers\n",
      "Year 2017: 25203 reviewers\n",
      "Year 2014: 21934 reviewers\n",
      "Year 2018: 18018 reviewers\n",
      "Year 2013: 15250 reviewers\n",
      "Year 2012: 5908 reviewers\n",
      "Year 2011: 427 reviewers\n",
      "Year 2010: 205 reviewers\n",
      "Year 2009: 145 reviewers\n",
      "Year 2008: 18 reviewers\n"
     ]
    },
    {
     "data": {
      "image/png": "[encoded data removed]",
      "text/plain": [
       "<Figure size 432x288 with 1 Axes>"
      ]
     },
     "metadata": {
      "needs_background": "light"
     },
     "output_type": "display_data"
    }
   ],
   "source": [
    "# count the number of customers who submit on a specific year\n",
    "year_dict = df['year_reviewed'].value_counts()\n",
    "\n",
    "print('Customer count against the years the ratings are submitted')\n",
    "for year in year_dict.keys():\n",
    "    print('Year {}: {} reviewers'.format(year, year_dict[year]))\n",
    "\n",
    "# plot the results into bar plots\n",
    "year_df = pd.DataFrame({\n",
    "    'years': [year for year in year_dict.keys()],\n",
    "    'counts': year_dict.values\n",
    "})\n",
    "\n",
    "year_df.plot(kind='scatter', x='years', y='counts')\n",
    "plt.show()"
   ]
  },
  {
   "cell_type": "code",
   "execution_count": 28,
   "metadata": {},
   "outputs": [
    {
     "data": {
      "text/html": [
       "<div>\n",
       "<style scoped>\n",
       "    .dataframe tbody tr th:only-of-type {\n",
       "        vertical-align: middle;\n",
       "    }\n",
       "\n",
       "    .dataframe tbody tr th {\n",
       "        vertical-align: top;\n",
       "    }\n",
       "\n",
       "    .dataframe thead th {\n",
       "        text-align: right;\n",
       "    }\n",
       "</style>\n",
       "<table border=\"1\" class=\"dataframe\">\n",
       "  <thead>\n",
       "    <tr style=\"text-align: right;\">\n",
       "      <th></th>\n",
       "      <th>overall</th>\n",
       "      <th>unixReviewTime</th>\n",
       "    </tr>\n",
       "  </thead>\n",
       "  <tbody>\n",
       "    <tr>\n",
       "      <th>count</th>\n",
       "      <td>147194.000000</td>\n",
       "      <td>1.471940e+05</td>\n",
       "    </tr>\n",
       "    <tr>\n",
       "      <th>mean</th>\n",
       "      <td>4.671970</td>\n",
       "      <td>1.447245e+09</td>\n",
       "    </tr>\n",
       "    <tr>\n",
       "      <th>std</th>\n",
       "      <td>0.955134</td>\n",
       "      <td>5.221619e+07</td>\n",
       "    </tr>\n",
       "    <tr>\n",
       "      <th>min</th>\n",
       "      <td>1.000000</td>\n",
       "      <td>1.228522e+09</td>\n",
       "    </tr>\n",
       "    <tr>\n",
       "      <th>25%</th>\n",
       "      <td>5.000000</td>\n",
       "      <td>1.409789e+09</td>\n",
       "    </tr>\n",
       "    <tr>\n",
       "      <th>50%</th>\n",
       "      <td>5.000000</td>\n",
       "      <td>1.453334e+09</td>\n",
       "    </tr>\n",
       "    <tr>\n",
       "      <th>75%</th>\n",
       "      <td>5.000000</td>\n",
       "      <td>1.485389e+09</td>\n",
       "    </tr>\n",
       "    <tr>\n",
       "      <th>max</th>\n",
       "      <td>5.000000</td>\n",
       "      <td>1.538266e+09</td>\n",
       "    </tr>\n",
       "  </tbody>\n",
       "</table>\n",
       "</div>"
      ],
      "text/plain": [
       "             overall  unixReviewTime\n",
       "count  147194.000000    1.471940e+05\n",
       "mean        4.671970    1.447245e+09\n",
       "std         0.955134    5.221619e+07\n",
       "min         1.000000    1.228522e+09\n",
       "25%         5.000000    1.409789e+09\n",
       "50%         5.000000    1.453334e+09\n",
       "75%         5.000000    1.485389e+09\n",
       "max         5.000000    1.538266e+09"
      ]
     },
     "execution_count": 28,
     "metadata": {},
     "output_type": "execute_result"
    }
   ],
   "source": [
    "df.describe()"
   ]
  },
  {
   "cell_type": "markdown",
   "metadata": {},
   "source": [
    "`object` data types can be in form of strings, lists, dictionaries, etc."
   ]
  },
  {
   "cell_type": "code",
   "execution_count": 29,
   "metadata": {},
   "outputs": [
    {
     "data": {
      "text/plain": [
       "overall           float64\n",
       "vote               object\n",
       "verified             bool\n",
       "reviewTime         object\n",
       "reviewerID         object\n",
       "asin               object\n",
       "style              object\n",
       "reviewerName       object\n",
       "reviewText         object\n",
       "summary            object\n",
       "unixReviewTime      int64\n",
       "image              object\n",
       "dtype: object"
      ]
     },
     "execution_count": 29,
     "metadata": {},
     "output_type": "execute_result"
    }
   ],
   "source": [
    "df.dtypes"
   ]
  },
  {
   "cell_type": "markdown",
   "metadata": {},
   "source": [
    "Since `overall` column tells us about user ratings, we have to make sure that there are no empty/NaN values."
   ]
  },
  {
   "cell_type": "code",
   "execution_count": 30,
   "metadata": {},
   "outputs": [
    {
     "name": "stdout",
     "output_type": "stream",
     "text": [
      "Overall empty values count: 0\n"
     ]
    }
   ],
   "source": [
    "print(\"Overall empty values count:\", np.sum(pd.isnull(df['overall'])))"
   ]
  },
  {
   "cell_type": "markdown",
   "metadata": {},
   "source": [
    "Great, we can see that the output '0' means we have no empty values inside `overall` column.<br>\n",
    "How about other columns?"
   ]
  },
  {
   "cell_type": "code",
   "execution_count": 31,
   "metadata": {},
   "outputs": [
    {
     "name": "stdout",
     "output_type": "stream",
     "text": [
      "vote empty values count: 140853\n",
      "verified empty values count: 0\n",
      "reviewTime empty values count: 0\n",
      "reviewerID empty values count: 0\n",
      "asin empty values count: 0\n",
      "style empty values count: 104819\n",
      "reviewerName empty values count: 4\n",
      "reviewText empty values count: 159\n",
      "summary empty values count: 40\n",
      "unixReviewTime empty values count: 0\n",
      "image empty values count: 146788\n"
     ]
    }
   ],
   "source": [
    "# count how many empty values each column has\n",
    "for c in df.columns:\n",
    "    if c == 'overall':\n",
    "        continue\n",
    "    print(\"{} empty values count: {}\".format(c, np.sum(pd.isnull(df[c]))))"
   ]
  },
  {
   "cell_type": "markdown",
   "metadata": {},
   "source": [
    "There are some empty/NaN values here and there. Since the only columns we care about are `overall` and `reviewerName`, we can drop them later.<br>\n",
    "Nevertheless, it is a great common practice to fill any empty values with a default value (e.g. empty string `''`)"
   ]
  },
  {
   "cell_type": "code",
   "execution_count": 32,
   "metadata": {},
   "outputs": [],
   "source": [
    "df = df.fillna('') # fill empty/NaN values with empty strings ('')\n",
    "df = df.drop(['verified', 'reviewTime', 'unixReviewTime', 'vote', 'style', 'image'], axis=1) # drop unused columns"
   ]
  },
  {
   "cell_type": "markdown",
   "metadata": {},
   "source": [
    "Let's check the final preprocessed and cleaned dataset"
   ]
  },
  {
   "cell_type": "code",
   "execution_count": 33,
   "metadata": {},
   "outputs": [
    {
     "data": {
      "text/html": [
       "<div>\n",
       "<style scoped>\n",
       "    .dataframe tbody tr th:only-of-type {\n",
       "        vertical-align: middle;\n",
       "    }\n",
       "\n",
       "    .dataframe tbody tr th {\n",
       "        vertical-align: top;\n",
       "    }\n",
       "\n",
       "    .dataframe thead th {\n",
       "        text-align: right;\n",
       "    }\n",
       "</style>\n",
       "<table border=\"1\" class=\"dataframe\">\n",
       "  <thead>\n",
       "    <tr style=\"text-align: right;\">\n",
       "      <th></th>\n",
       "      <th>overall</th>\n",
       "      <th>reviewerID</th>\n",
       "      <th>asin</th>\n",
       "      <th>reviewerName</th>\n",
       "      <th>reviewText</th>\n",
       "      <th>summary</th>\n",
       "    </tr>\n",
       "  </thead>\n",
       "  <tbody>\n",
       "    <tr>\n",
       "      <th>0</th>\n",
       "      <td>1.0</td>\n",
       "      <td>APV13CM0919JD</td>\n",
       "      <td>B001GXRQW0</td>\n",
       "      <td>LEH</td>\n",
       "      <td>Amazon,\\nI am shopping for Amazon.com gift car...</td>\n",
       "      <td>Merry Christmas.</td>\n",
       "    </tr>\n",
       "    <tr>\n",
       "      <th>1</th>\n",
       "      <td>5.0</td>\n",
       "      <td>A3G8U1G1V082SN</td>\n",
       "      <td>B001GXRQW0</td>\n",
       "      <td>Tali</td>\n",
       "      <td>I got this gift card from a friend, and it was...</td>\n",
       "      <td>Gift card with best selection</td>\n",
       "    </tr>\n",
       "    <tr>\n",
       "      <th>2</th>\n",
       "      <td>5.0</td>\n",
       "      <td>A11T2Q0EVTUWP</td>\n",
       "      <td>B001GXRQW0</td>\n",
       "      <td>Z</td>\n",
       "      <td>aren't we going to save trees?! :) People who ...</td>\n",
       "      <td>A convenient and great gift for the environmen...</td>\n",
       "    </tr>\n",
       "    <tr>\n",
       "      <th>3</th>\n",
       "      <td>5.0</td>\n",
       "      <td>A9YKGBH3SV22C</td>\n",
       "      <td>B001GXRQW0</td>\n",
       "      <td>Giotravels</td>\n",
       "      <td>You can always get someone something from Amaz...</td>\n",
       "      <td>Totally make sense</td>\n",
       "    </tr>\n",
       "    <tr>\n",
       "      <th>4</th>\n",
       "      <td>1.0</td>\n",
       "      <td>A34WZIHVF3OKOL</td>\n",
       "      <td>B001GXRQW0</td>\n",
       "      <td>King Dad</td>\n",
       "      <td>Why take 50 dollars of good money with no limi...</td>\n",
       "      <td>Give CASH!</td>\n",
       "    </tr>\n",
       "  </tbody>\n",
       "</table>\n",
       "</div>"
      ],
      "text/plain": [
       "   overall      reviewerID        asin reviewerName  \\\n",
       "0      1.0   APV13CM0919JD  B001GXRQW0          LEH   \n",
       "1      5.0  A3G8U1G1V082SN  B001GXRQW0         Tali   \n",
       "2      5.0   A11T2Q0EVTUWP  B001GXRQW0            Z   \n",
       "3      5.0   A9YKGBH3SV22C  B001GXRQW0   Giotravels   \n",
       "4      1.0  A34WZIHVF3OKOL  B001GXRQW0     King Dad   \n",
       "\n",
       "                                          reviewText  \\\n",
       "0  Amazon,\\nI am shopping for Amazon.com gift car...   \n",
       "1  I got this gift card from a friend, and it was...   \n",
       "2  aren't we going to save trees?! :) People who ...   \n",
       "3  You can always get someone something from Amaz...   \n",
       "4  Why take 50 dollars of good money with no limi...   \n",
       "\n",
       "                                             summary  \n",
       "0                                   Merry Christmas.  \n",
       "1                      Gift card with best selection  \n",
       "2  A convenient and great gift for the environmen...  \n",
       "3                                 Totally make sense  \n",
       "4                                         Give CASH!  "
      ]
     },
     "execution_count": 33,
     "metadata": {},
     "output_type": "execute_result"
    }
   ],
   "source": [
    "df.head()"
   ]
  },
  {
   "cell_type": "markdown",
   "metadata": {},
   "source": [
    "Looking good! We can proceed with the next step.<br>\n",
    "Next, for flexibility purposes, I store all users along with their names and UIDs in a `dict` called 'users'. This `dict` will makes the prediction phase easier (which I will explain later)"
   ]
  },
  {
   "cell_type": "code",
   "execution_count": 34,
   "metadata": {},
   "outputs": [
    {
     "name": "stdout",
     "output_type": "stream",
     "text": [
      "LEH APV13CM0919JD\n",
      "Tali A3G8U1G1V082SN\n",
      "Z A11T2Q0EVTUWP\n",
      "Giotravels A9YKGBH3SV22C\n",
      "King Dad A34WZIHVF3OKOL\n",
      "D. Daniels A221J8EC5HNPY6\n",
      "C. Michael Gamble A204VFHD6JWASO\n",
      "MjSher A3QN3GMNS7NBIQ\n",
      "D. Magilnick A1BXZIDZOMBAV2\n",
      "P. Chung AJ7D8N3Z1Q7MK\n",
      "joe A36UACIX4M8IVQ\n",
      "Amazon Customer A5FEAOLPMWJQB\n",
      "NICOLA CACCHIONE A14XDZ9HB51T1H\n",
      "mom2girls A2UZS69NXZ1WW7\n",
      "Cheyenne A2AB6HL83JZ1BO\n",
      "Robert B. A21WZ65DFKQ5N8\n",
      "Alexander Gimon A1VN7BM6Y5TQJA\n",
      "Amazon Customer A5FEAOLPMWJQB\n",
      "crystal lynn phelps A2CKVUNA97MJOU\n",
      "Brenndy A7I9KD0PJAEAX\n"
     ]
    }
   ],
   "source": [
    "users = {} # dict of users\n",
    "\n",
    "# fill users dict according to their names and UIDs\n",
    "for name,uid in zip(df['reviewerName'], df['reviewerID']):\n",
    "    if name not in users:\n",
    "        users[name] = uid\n",
    "\n",
    "# display the first 20 users\n",
    "for i, n in enumerate(df['reviewerName']):\n",
    "    if i == 20:\n",
    "        break\n",
    "    print(n, users[n])\n",
    "    "
   ]
  },
  {
   "cell_type": "markdown",
   "metadata": {},
   "source": [
    "### 3. Model Training\n",
    "We will use `scikit-surprise` to implement colaborative filtering and train our model"
   ]
  },
  {
   "cell_type": "code",
   "execution_count": 35,
   "metadata": {},
   "outputs": [],
   "source": [
    "# Uncomment and run code below to install scikit-surprise\n",
    "#!pip installl scikit-surprise"
   ]
  },
  {
   "cell_type": "code",
   "execution_count": 36,
   "metadata": {},
   "outputs": [],
   "source": [
    "from surprise import Reader, Dataset, SVD\n",
    "from surprise.model_selection.validation import cross_validate"
   ]
  },
  {
   "cell_type": "code",
   "execution_count": 37,
   "metadata": {},
   "outputs": [],
   "source": [
    "reader = Reader() # content parser inside the dataset\n",
    "data = Dataset.load_from_df(df[['reviewerID', 'asin', 'overall']], reader) # load our DataFrame 'df' dataset to be fed to the model\n",
    "svd_model = SVD() # our model instance, built with SVD. We can also build different models like Probabilistic Matrix Factorization (PMF) or Non-negative Matrix Factorization (NMF)"
   ]
  },
  {
   "cell_type": "markdown",
   "metadata": {},
   "source": [
    "`Reader()` class will parse the file containing users, products, and ratings.<br>\n",
    "Once the model is ready, we can evaluate the model by implementing k-fold cross-validation."
   ]
  },
  {
   "cell_type": "code",
   "execution_count": 38,
   "metadata": {},
   "outputs": [
    {
     "name": "stdout",
     "output_type": "stream",
     "text": [
      "Evaluating RMSE, MAE of algorithm SVD on 5 split(s).\n",
      "\n",
      "                  Fold 1  Fold 2  Fold 3  Fold 4  Fold 5  Mean    Std     \n",
      "RMSE (testset)    0.9245  0.9409  0.9331  0.9198  0.9244  0.9286  0.0075  \n",
      "MAE (testset)     0.5387  0.5479  0.5428  0.5365  0.5360  0.5404  0.0045  \n",
      "Fit time          4.99    5.07    5.00    5.08    5.06    5.04    0.04    \n",
      "Test time         0.36    0.12    0.12    0.12    0.11    0.16    0.10    \n"
     ]
    },
    {
     "data": {
      "text/plain": [
       "{'test_rmse': array([0.92453012, 0.94089099, 0.9331198 , 0.91979584, 0.92442959]),\n",
       " 'test_mae': array([0.53866103, 0.54794479, 0.54282242, 0.53646724, 0.53595096]),\n",
       " 'fit_time': (4.993110179901123,\n",
       "  5.070276498794556,\n",
       "  4.999421119689941,\n",
       "  5.0791003704071045,\n",
       "  5.060134649276733),\n",
       " 'test_time': (0.35735487937927246,\n",
       "  0.11648249626159668,\n",
       "  0.1170041561126709,\n",
       "  0.1179506778717041,\n",
       "  0.11491870880126953)}"
      ]
     },
     "execution_count": 38,
     "metadata": {},
     "output_type": "execute_result"
    }
   ],
   "source": [
    "# Run 5-fold cross-validation and print results\n",
    "cross_validate(svd_model, data, measures=['RMSE', 'MAE'], cv=5, verbose=True)"
   ]
  },
  {
   "cell_type": "markdown",
   "metadata": {},
   "source": [
    "We can also retrain our model with the entire training dataset"
   ]
  },
  {
   "cell_type": "code",
   "execution_count": 39,
   "metadata": {},
   "outputs": [
    {
     "data": {
      "text/plain": [
       "<surprise.prediction_algorithms.matrix_factorization.SVD at 0x1b55da93160>"
      ]
     },
     "execution_count": 39,
     "metadata": {},
     "output_type": "execute_result"
    }
   ],
   "source": [
    "new_training_set = data.build_full_trainset()\n",
    "svd_model.fit(new_training_set)"
   ]
  },
  {
   "cell_type": "markdown",
   "metadata": {},
   "source": [
    "### 4. Model Prediction\n",
    "Before we get into the predicting step, we need to load the metadata dataset because this dataset contains all products' name, description, brand, price, etc."
   ]
  },
  {
   "cell_type": "code",
   "execution_count": 40,
   "metadata": {},
   "outputs": [],
   "source": [
    "# load metadata dataset\n",
    "metadata = getDF('data/meta_Gift_Cards.json.gz')"
   ]
  },
  {
   "cell_type": "code",
   "execution_count": 41,
   "metadata": {},
   "outputs": [
    {
     "data": {
      "text/html": [
       "<div>\n",
       "<style scoped>\n",
       "    .dataframe tbody tr th:only-of-type {\n",
       "        vertical-align: middle;\n",
       "    }\n",
       "\n",
       "    .dataframe tbody tr th {\n",
       "        vertical-align: top;\n",
       "    }\n",
       "\n",
       "    .dataframe thead th {\n",
       "        text-align: right;\n",
       "    }\n",
       "</style>\n",
       "<table border=\"1\" class=\"dataframe\">\n",
       "  <thead>\n",
       "    <tr style=\"text-align: right;\">\n",
       "      <th></th>\n",
       "      <th>category</th>\n",
       "      <th>tech1</th>\n",
       "      <th>description</th>\n",
       "      <th>fit</th>\n",
       "      <th>title</th>\n",
       "      <th>also_buy</th>\n",
       "      <th>image</th>\n",
       "      <th>tech2</th>\n",
       "      <th>brand</th>\n",
       "      <th>feature</th>\n",
       "      <th>rank</th>\n",
       "      <th>also_view</th>\n",
       "      <th>details</th>\n",
       "      <th>main_cat</th>\n",
       "      <th>similar_item</th>\n",
       "      <th>date</th>\n",
       "      <th>price</th>\n",
       "      <th>asin</th>\n",
       "    </tr>\n",
       "  </thead>\n",
       "  <tbody>\n",
       "    <tr>\n",
       "      <th>0</th>\n",
       "      <td>[Gift Cards, Gift Cards]</td>\n",
       "      <td></td>\n",
       "      <td>[Gift card for the purchase of goods or servic...</td>\n",
       "      <td></td>\n",
       "      <td>Serendipity 3 $100.00 Gift Card</td>\n",
       "      <td>[]</td>\n",
       "      <td>[]</td>\n",
       "      <td></td>\n",
       "      <td>Serendipity 3</td>\n",
       "      <td>[]</td>\n",
       "      <td>[]</td>\n",
       "      <td>[]</td>\n",
       "      <td>{'\n",
       "    Product Dimensions: \n",
       "    ': '3.4 x 2.1 ...</td>\n",
       "      <td>Grocery</td>\n",
       "      <td></td>\n",
       "      <td></td>\n",
       "      <td></td>\n",
       "      <td>B001BKEWF2</td>\n",
       "    </tr>\n",
       "    <tr>\n",
       "      <th>1</th>\n",
       "      <td>[Gift Cards, Gift Cards]</td>\n",
       "      <td></td>\n",
       "      <td>[Amazon.com Gift Cards are the perfect way to ...</td>\n",
       "      <td></td>\n",
       "      <td>Amazon.com Gift Cards</td>\n",
       "      <td>[]</td>\n",
       "      <td>[https://images-na.ssl-images-amazon.com/image...</td>\n",
       "      <td></td>\n",
       "      <td>Amazon</td>\n",
       "      <td>[Amazon.com Gift cards never expire and carry ...</td>\n",
       "      <td>[]</td>\n",
       "      <td>[BT00DC6QU4, B01I4AHZXC, B0719C5P56, B01K8RLHZ...</td>\n",
       "      <td>{'Shipping Weight:': '0.5 ounces', 'Domestic S...</td>\n",
       "      <td>Gift Cards</td>\n",
       "      <td></td>\n",
       "      <td></td>\n",
       "      <td></td>\n",
       "      <td>B001GXRQW0</td>\n",
       "    </tr>\n",
       "    <tr>\n",
       "      <th>2</th>\n",
       "      <td>[Gift Cards, Gift Cards]</td>\n",
       "      <td></td>\n",
       "      <td>[&lt;div class=\"aplus\"&gt; &lt;br&gt;Amazon.com Gift Cards...</td>\n",
       "      <td></td>\n",
       "      <td>Amazon.com Gift Cards, Pack of 50 (Old Version...</td>\n",
       "      <td>[B005ESMEBQ, B007EE5WNA, B007EE5OBU, B07HJHK8Y...</td>\n",
       "      <td>[https://images-na.ssl-images-amazon.com/image...</td>\n",
       "      <td></td>\n",
       "      <td>Amazon</td>\n",
       "      <td>[Contains 50 Gift Cards, Gift Card has no fees...</td>\n",
       "      <td>1,786 in Gift Cards (</td>\n",
       "      <td>[B005ESMEBQ, B007EE5OBU, B007EE5WNA, B007EE60N...</td>\n",
       "      <td>{'Shipping Weight:': '1.8 pounds (', 'Domestic...</td>\n",
       "      <td>Gift Cards</td>\n",
       "      <td></td>\n",
       "      <td></td>\n",
       "      <td>$1,250.00</td>\n",
       "      <td>B001H53QE4</td>\n",
       "    </tr>\n",
       "    <tr>\n",
       "      <th>3</th>\n",
       "      <td>[Gift Cards, Gift Cards]</td>\n",
       "      <td></td>\n",
       "      <td>[&lt;div class=\"aplus\"&gt; &lt;h4&gt;Amazon.com Gift Cards...</td>\n",
       "      <td></td>\n",
       "      <td>Amazon.com $50 Gift Cards, Pack of 50 (Old Ve...</td>\n",
       "      <td>[]</td>\n",
       "      <td>[https://images-na.ssl-images-amazon.com/image...</td>\n",
       "      <td></td>\n",
       "      <td>Amazon</td>\n",
       "      <td>[Contains 50 Gift Cards, Gift Card has no fees...</td>\n",
       "      <td>[]</td>\n",
       "      <td>[]</td>\n",
       "      <td>{'Shipping Weight:': '1.6 pounds', 'Domestic S...</td>\n",
       "      <td>Gift Cards</td>\n",
       "      <td></td>\n",
       "      <td></td>\n",
       "      <td></td>\n",
       "      <td>B001H53QEO</td>\n",
       "    </tr>\n",
       "    <tr>\n",
       "      <th>4</th>\n",
       "      <td>[Gift Cards, Gift Cards]</td>\n",
       "      <td></td>\n",
       "      <td>[]</td>\n",
       "      <td></td>\n",
       "      <td>Wood Puzzle Magic Box Gift Card</td>\n",
       "      <td>[]</td>\n",
       "      <td>[https://images-na.ssl-images-amazon.com/image...</td>\n",
       "      <td></td>\n",
       "      <td>Creative Crafthouse</td>\n",
       "      <td>[]</td>\n",
       "      <td>[&gt;#2,893,775 in Toys &amp; Games (See Top 100 in T...</td>\n",
       "      <td>[]</td>\n",
       "      <td>{}</td>\n",
       "      <td>Toys &amp; Games</td>\n",
       "      <td></td>\n",
       "      <td></td>\n",
       "      <td></td>\n",
       "      <td>B001KMWN2K</td>\n",
       "    </tr>\n",
       "  </tbody>\n",
       "</table>\n",
       "</div>"
      ],
      "text/plain": [
       "                   category tech1  \\\n",
       "0  [Gift Cards, Gift Cards]         \n",
       "1  [Gift Cards, Gift Cards]         \n",
       "2  [Gift Cards, Gift Cards]         \n",
       "3  [Gift Cards, Gift Cards]         \n",
       "4  [Gift Cards, Gift Cards]         \n",
       "\n",
       "                                         description fit  \\\n",
       "0  [Gift card for the purchase of goods or servic...       \n",
       "1  [Amazon.com Gift Cards are the perfect way to ...       \n",
       "2  [<div class=\"aplus\"> <br>Amazon.com Gift Cards...       \n",
       "3  [<div class=\"aplus\"> <h4>Amazon.com Gift Cards...       \n",
       "4                                                 []       \n",
       "\n",
       "                                               title  \\\n",
       "0                    Serendipity 3 $100.00 Gift Card   \n",
       "1                              Amazon.com Gift Cards   \n",
       "2  Amazon.com Gift Cards, Pack of 50 (Old Version...   \n",
       "3   Amazon.com $50 Gift Cards, Pack of 50 (Old Ve...   \n",
       "4                    Wood Puzzle Magic Box Gift Card   \n",
       "\n",
       "                                            also_buy  \\\n",
       "0                                                 []   \n",
       "1                                                 []   \n",
       "2  [B005ESMEBQ, B007EE5WNA, B007EE5OBU, B07HJHK8Y...   \n",
       "3                                                 []   \n",
       "4                                                 []   \n",
       "\n",
       "                                               image tech2  \\\n",
       "0                                                 []         \n",
       "1  [https://images-na.ssl-images-amazon.com/image...         \n",
       "2  [https://images-na.ssl-images-amazon.com/image...         \n",
       "3  [https://images-na.ssl-images-amazon.com/image...         \n",
       "4  [https://images-na.ssl-images-amazon.com/image...         \n",
       "\n",
       "                 brand                                            feature  \\\n",
       "0        Serendipity 3                                                 []   \n",
       "1               Amazon  [Amazon.com Gift cards never expire and carry ...   \n",
       "2               Amazon  [Contains 50 Gift Cards, Gift Card has no fees...   \n",
       "3               Amazon  [Contains 50 Gift Cards, Gift Card has no fees...   \n",
       "4  Creative Crafthouse                                                 []   \n",
       "\n",
       "                                                rank  \\\n",
       "0                                                 []   \n",
       "1                                                 []   \n",
       "2                              1,786 in Gift Cards (   \n",
       "3                                                 []   \n",
       "4  [>#2,893,775 in Toys & Games (See Top 100 in T...   \n",
       "\n",
       "                                           also_view  \\\n",
       "0                                                 []   \n",
       "1  [BT00DC6QU4, B01I4AHZXC, B0719C5P56, B01K8RLHZ...   \n",
       "2  [B005ESMEBQ, B007EE5OBU, B007EE5WNA, B007EE60N...   \n",
       "3                                                 []   \n",
       "4                                                 []   \n",
       "\n",
       "                                             details      main_cat  \\\n",
       "0  {'\n",
       "    Product Dimensions: \n",
       "    ': '3.4 x 2.1 ...       Grocery   \n",
       "1  {'Shipping Weight:': '0.5 ounces', 'Domestic S...    Gift Cards   \n",
       "2  {'Shipping Weight:': '1.8 pounds (', 'Domestic...    Gift Cards   \n",
       "3  {'Shipping Weight:': '1.6 pounds', 'Domestic S...    Gift Cards   \n",
       "4                                                 {}  Toys & Games   \n",
       "\n",
       "  similar_item date      price        asin  \n",
       "0                               B001BKEWF2  \n",
       "1                               B001GXRQW0  \n",
       "2                    $1,250.00  B001H53QE4  \n",
       "3                               B001H53QEO  \n",
       "4                               B001KMWN2K  "
      ]
     },
     "execution_count": 41,
     "metadata": {},
     "output_type": "execute_result"
    }
   ],
   "source": [
    "# shows top 5 rows\n",
    "metadata.head()"
   ]
  },
  {
   "cell_type": "markdown",
   "metadata": {},
   "source": [
    "For simplicity, I only show the 'product ID' (asin) and 'product name' (title) in the prediction phase"
   ]
  },
  {
   "cell_type": "code",
   "execution_count": 42,
   "metadata": {},
   "outputs": [
    {
     "data": {
      "text/html": [
       "<div>\n",
       "<style scoped>\n",
       "    .dataframe tbody tr th:only-of-type {\n",
       "        vertical-align: middle;\n",
       "    }\n",
       "\n",
       "    .dataframe tbody tr th {\n",
       "        vertical-align: top;\n",
       "    }\n",
       "\n",
       "    .dataframe thead th {\n",
       "        text-align: right;\n",
       "    }\n",
       "</style>\n",
       "<table border=\"1\" class=\"dataframe\">\n",
       "  <thead>\n",
       "    <tr style=\"text-align: right;\">\n",
       "      <th></th>\n",
       "      <th>asin</th>\n",
       "      <th>title</th>\n",
       "    </tr>\n",
       "  </thead>\n",
       "  <tbody>\n",
       "    <tr>\n",
       "      <th>0</th>\n",
       "      <td>B001BKEWF2</td>\n",
       "      <td>Serendipity 3 $100.00 Gift Card</td>\n",
       "    </tr>\n",
       "    <tr>\n",
       "      <th>1</th>\n",
       "      <td>B001GXRQW0</td>\n",
       "      <td>Amazon.com Gift Cards</td>\n",
       "    </tr>\n",
       "    <tr>\n",
       "      <th>2</th>\n",
       "      <td>B001H53QE4</td>\n",
       "      <td>Amazon.com Gift Cards, Pack of 50 (Old Version...</td>\n",
       "    </tr>\n",
       "    <tr>\n",
       "      <th>3</th>\n",
       "      <td>B001H53QEO</td>\n",
       "      <td>Amazon.com $50 Gift Cards, Pack of 50 (Old Ve...</td>\n",
       "    </tr>\n",
       "    <tr>\n",
       "      <th>4</th>\n",
       "      <td>B001KMWN2K</td>\n",
       "      <td>Wood Puzzle Magic Box Gift Card</td>\n",
       "    </tr>\n",
       "  </tbody>\n",
       "</table>\n",
       "</div>"
      ],
      "text/plain": [
       "         asin                                              title\n",
       "0  B001BKEWF2                    Serendipity 3 $100.00 Gift Card\n",
       "1  B001GXRQW0                              Amazon.com Gift Cards\n",
       "2  B001H53QE4  Amazon.com Gift Cards, Pack of 50 (Old Version...\n",
       "3  B001H53QEO   Amazon.com $50 Gift Cards, Pack of 50 (Old Ve...\n",
       "4  B001KMWN2K                    Wood Puzzle Magic Box Gift Card"
      ]
     },
     "execution_count": 42,
     "metadata": {},
     "output_type": "execute_result"
    }
   ],
   "source": [
    "metadata = metadata[['asin', 'title']] # extract only product id and product name\n",
    "metadata.head()"
   ]
  },
  {
   "cell_type": "markdown",
   "metadata": {},
   "source": [
    "Recall that I made a `dict` called 'users' in the beginning of this notebook and this is where it gets very useful. On training phase, the model only recognizes UID (users' ID) instead of names. Hence, when making a prediction, we also need to feed in the user ID. 'users' `dict` will make our job easier so that we can enter a name and it will find its corresponding ID"
   ]
  },
  {
   "cell_type": "code",
   "execution_count": 44,
   "metadata": {},
   "outputs": [],
   "source": [
    "USER_NAME = 'D. Daniels' # user name\n",
    "USER_ID = users[USER_NAME] # user ID\n",
    "\n",
    "# append 'recommendation_score' column in order to a make prediction\n",
    "metadata['recommendation_score'] = metadata['asin'].apply(lambda x: svd_model.predict(USER_ID, x).est)"
   ]
  },
  {
   "cell_type": "code",
   "execution_count": 45,
   "metadata": {},
   "outputs": [
    {
     "name": "stdout",
     "output_type": "stream",
     "text": [
      "Top 100 Recommendations for D. Daniels:\n"
     ]
    },
    {
     "data": {
      "text/html": [
       "<div>\n",
       "<style scoped>\n",
       "    .dataframe tbody tr th:only-of-type {\n",
       "        vertical-align: middle;\n",
       "    }\n",
       "\n",
       "    .dataframe tbody tr th {\n",
       "        vertical-align: top;\n",
       "    }\n",
       "\n",
       "    .dataframe thead th {\n",
       "        text-align: right;\n",
       "    }\n",
       "</style>\n",
       "<table border=\"1\" class=\"dataframe\">\n",
       "  <thead>\n",
       "    <tr style=\"text-align: right;\">\n",
       "      <th></th>\n",
       "      <th>asin</th>\n",
       "      <th>title</th>\n",
       "      <th>recommendation_score</th>\n",
       "    </tr>\n",
       "  </thead>\n",
       "  <tbody>\n",
       "    <tr>\n",
       "      <th>1438</th>\n",
       "      <td>B0187SV7Y4</td>\n",
       "      <td>Amazon eGift Card - Dance (Animated)</td>\n",
       "      <td>5.000000</td>\n",
       "    </tr>\n",
       "    <tr>\n",
       "      <th>137</th>\n",
       "      <td>B004LLILQY</td>\n",
       "      <td>Amazon eGift Card - Happy Kwanzaa</td>\n",
       "      <td>5.000000</td>\n",
       "    </tr>\n",
       "    <tr>\n",
       "      <th>1091</th>\n",
       "      <td>B00O4I5S7O</td>\n",
       "      <td>Panera Bread Gift Cards, Multipack of 3</td>\n",
       "      <td>5.000000</td>\n",
       "    </tr>\n",
       "    <tr>\n",
       "      <th>345</th>\n",
       "      <td>B00AF0KAWI</td>\n",
       "      <td>Amazon.com Gift Card - Upload Your Photo (Pri...</td>\n",
       "      <td>5.000000</td>\n",
       "    </tr>\n",
       "    <tr>\n",
       "      <th>529</th>\n",
       "      <td>B00CRQ4XA8</td>\n",
       "      <td>Amazon Gift Card - Print - Happy Father&amp;#39;s...</td>\n",
       "      <td>5.000000</td>\n",
       "    </tr>\n",
       "    <tr>\n",
       "      <th>...</th>\n",
       "      <td>...</td>\n",
       "      <td>...</td>\n",
       "      <td>...</td>\n",
       "    </tr>\n",
       "    <tr>\n",
       "      <th>201</th>\n",
       "      <td>B004RD9ACA</td>\n",
       "      <td>Amazon Gift Card - Print - Happy Birthday (Hats)</td>\n",
       "      <td>4.852773</td>\n",
       "    </tr>\n",
       "    <tr>\n",
       "      <th>344</th>\n",
       "      <td>B00ADR2XIC</td>\n",
       "      <td>Amazon.com Gift Card in a White Gift Box (Clas...</td>\n",
       "      <td>4.849049</td>\n",
       "    </tr>\n",
       "    <tr>\n",
       "      <th>145</th>\n",
       "      <td>B004LLIL5A</td>\n",
       "      <td>Amazon eGift Card - Celebrate</td>\n",
       "      <td>4.848496</td>\n",
       "    </tr>\n",
       "    <tr>\n",
       "      <th>116</th>\n",
       "      <td>B004LLIL3C</td>\n",
       "      <td>Amazon eGift Card - Happy Birthday (Octopus)</td>\n",
       "      <td>4.848088</td>\n",
       "    </tr>\n",
       "    <tr>\n",
       "      <th>818</th>\n",
       "      <td>B00H5BM3L6</td>\n",
       "      <td>Amazon eGift Card - Belated Birthday Bird (An...</td>\n",
       "      <td>4.847260</td>\n",
       "    </tr>\n",
       "  </tbody>\n",
       "</table>\n",
       "<p>100 rows × 3 columns</p>\n",
       "</div>"
      ],
      "text/plain": [
       "            asin                                              title  \\\n",
       "1438  B0187SV7Y4               Amazon eGift Card - Dance (Animated)   \n",
       "137   B004LLILQY                  Amazon eGift Card - Happy Kwanzaa   \n",
       "1091  B00O4I5S7O            Panera Bread Gift Cards, Multipack of 3   \n",
       "345   B00AF0KAWI   Amazon.com Gift Card - Upload Your Photo (Pri...   \n",
       "529   B00CRQ4XA8   Amazon Gift Card - Print - Happy Father&#39;s...   \n",
       "...          ...                                                ...   \n",
       "201   B004RD9ACA   Amazon Gift Card - Print - Happy Birthday (Hats)   \n",
       "344   B00ADR2XIC  Amazon.com Gift Card in a White Gift Box (Clas...   \n",
       "145   B004LLIL5A                      Amazon eGift Card - Celebrate   \n",
       "116   B004LLIL3C       Amazon eGift Card - Happy Birthday (Octopus)   \n",
       "818   B00H5BM3L6   Amazon eGift Card - Belated Birthday Bird (An...   \n",
       "\n",
       "      recommendation_score  \n",
       "1438              5.000000  \n",
       "137               5.000000  \n",
       "1091              5.000000  \n",
       "345               5.000000  \n",
       "529               5.000000  \n",
       "...                    ...  \n",
       "201               4.852773  \n",
       "344               4.849049  \n",
       "145               4.848496  \n",
       "116               4.848088  \n",
       "818               4.847260  \n",
       "\n",
       "[100 rows x 3 columns]"
      ]
     },
     "execution_count": 45,
     "metadata": {},
     "output_type": "execute_result"
    }
   ],
   "source": [
    "num_of_recommendations_to_show = 100 # show top 100 recommendations\n",
    "metadata = metadata.sort_values(by=['recommendation_score'], ascending=False) # sort by descending order (big to small recommendation_score)\n",
    "\n",
    "print('Top {} Recommendations for {}:'.format(num_of_recommendations_to_show, USER_NAME))\n",
    "recommendations = metadata.head(num_of_recommendations_to_show)\n",
    "recommendations"
   ]
  },
  {
   "cell_type": "markdown",
   "metadata": {},
   "source": [
    "### 5. Saving Prediction\n",
    "Finally, save those predictions (recommendation list) into a Postgresql database. To do this, we need to install `psycopg2` library and setup a local database (https://www.postgresql.org/download/)"
   ]
  },
  {
   "cell_type": "code",
   "execution_count": null,
   "metadata": {},
   "outputs": [],
   "source": [
    "# Uncomment and run this code below to install psycopg2 which can connect Python to Postgresql\n",
    "#!pip install psycopg2"
   ]
  },
  {
   "cell_type": "markdown",
   "metadata": {},
   "source": [
    "To make it more convenient, we can also make a configuration file to store connection parameters. In practice, developers often use `database.ini` which contains:\n",
    "\n",
    "```\n",
    "[postgresql]\n",
    "host=localhost\n",
    "database=db_name\n",
    "user=postgres\n",
    "password=admin\n",
    "```\n",
    "\n",
    "By doing this, we can change the configuration connection parameters when we move the code to production environment without making changes to the code"
   ]
  },
  {
   "cell_type": "code",
   "execution_count": 46,
   "metadata": {},
   "outputs": [],
   "source": [
    "import psycopg2\n",
    "\n",
    "def insert_recommendation_list(product_id_list, product_name_list):\n",
    "    \n",
    "    \"\"\"\n",
    "    Insert records (recommendation lists) into a Postgresql database\n",
    "    \n",
    "    # Arguments:\n",
    "        product_id_list: list, a list of product IDs\n",
    "        product_name_list: list, a list of product names\n",
    "    \n",
    "    # Outputs:\n",
    "        None\n",
    "    \"\"\"\n",
    "    \n",
    "    # SQL INSERT query\n",
    "    query = \"\"\"INSERT INTO recommendations(product_id_list, product_name_list)\n",
    "            VALUES(%s, %s)\"\"\"\n",
    "    \n",
    "    conn = None # set initial connection to null\n",
    "    \n",
    "    # initiate connection to database\n",
    "    try:\n",
    "        print('Connecting to database...')\n",
    "        conn = psycopg2.connect(host='localhost', # local connection\n",
    "                               database='kitabisa_db', # our DB name\n",
    "                               user='admin', # username\n",
    "                               password='k1t@B!$a') # password\n",
    "        cur = conn.cursor()\n",
    "        print('Inserting rows...')\n",
    "        cur.execute(sql, (product_id_list, product_name_list)) # execute INSERT command\n",
    "        conn.commit() # make changes to the database\n",
    "        cur.close()\n",
    "    \n",
    "    # throw an error if connection to database cannot be initiated\n",
    "    except(Exception, psycopg2.DatabaseError) as error:\n",
    "        print(error)\n",
    "    \n",
    "    # close database connection\n",
    "    finally:\n",
    "        if conn is not None:\n",
    "            print('Transaction completed, closing database connection...')\n",
    "            conn.close()"
   ]
  },
  {
   "cell_type": "code",
   "execution_count": 47,
   "metadata": {},
   "outputs": [],
   "source": [
    "insert_recommendation_list(recommendations['asin'].values.tolist(), recommendations['title'].values.tolist())"
   ]
  },
  {
   "cell_type": "code",
   "execution_count": null,
   "metadata": {},
   "outputs": [],
   "source": []
  }
 ],
 "metadata": {
  "kernelspec": {
   "display_name": "Python 3",
   "language": "python",
   "name": "python3"
  },
  "language_info": {
   "codemirror_mode": {
    "name": "ipython",
    "version": 3
   },
   "file_extension": ".py",
   "mimetype": "text/x-python",
   "name": "python",
   "nbconvert_exporter": "python",
   "pygments_lexer": "ipython3",
   "version": "3.8.5"
  }
 },
 "nbformat": 4,
 "nbformat_minor": 4
}
