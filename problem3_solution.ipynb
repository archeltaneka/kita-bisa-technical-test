{
 "cells": [
  {
   "cell_type": "markdown",
   "metadata": {},
   "source": [
    "# Problem III\n",
    "\n",
    "<b>Please create a simple machine learning pipeline</b> that will give user recommendation (1 user at least has 100 product recommendation) and save the recommendation to PostgreSQL using this <a href='https://nijianmo.github.io/amazon/index.html'>Amazon Dataset</a> and upload it in your github page. You will be grade not for the machine learning algorithm / model but for the pipeline performance (eg. processing time, no of data processed)."
   ]
  },
  {
   "cell_type": "markdown",
   "metadata": {},
   "source": [
    "## Brief Introducttion\n",
    "Recommendation systems have been widely used in product recommendations such as in Netflix, Amazon, Spotify, etc. In general, there are 2 methods for building a basic recommender systems:\n",
    "1. Collaborative Filtering\n",
    "2. Content-based Filtering\n",
    "\n",
    "The method/algorithm I am going to use here is collaborative filtering. Collaborative filtering filters the interest of a user on a specific product by gathering/collecting information from other similar users.<br>\n",
    "`If person A shares a similar opinion with person B, then person A is more likely to share person B's opinion on another issue than a random person`<br>\n",
    "On the other hand, content-based filtering makes use of features/attributes to recommend products similar to the user liking based on other users' previous actions or explicit feedbacks.<br><br>\n",
    "\n",
    "I will use the Amazon dataset provided from the link above, but i only use the 'Beauty Products' which contains about 370k rows for cheap and faster implementation. (The whole dataset is about 233.1 million records, which is roughly 34GB)"
   ]
  },
  {
   "cell_type": "markdown",
   "metadata": {},
   "source": [
    "## Solution\n",
    "\n",
    "### 1. Load and Preprocess Dataset\n",
    "Since the dataset is in .gzip format, use gzip and json libraries from Python to load the dataset"
   ]
  },
  {
   "cell_type": "code",
   "execution_count": 1,
   "metadata": {},
   "outputs": [],
   "source": [
    "import numpy as np\n",
    "import pandas as pd\n",
    "import gzip # read .gzip files\n",
    "import json # take care of json formatted contents"
   ]
  },
  {
   "cell_type": "code",
   "execution_count": 2,
   "metadata": {},
   "outputs": [],
   "source": [
    "def parse(path):\n",
    "    \"\"\"\n",
    "    Read a .gzip file and parse its JSON contents\n",
    "    \n",
    "    # Arguments:\n",
    "        path: string, absolute path to the dataset\n",
    "        \n",
    "    # Outputs:\n",
    "        json_content: dict, the parsed JSON content\n",
    "    \n",
    "    \"\"\"\n",
    "    \n",
    "    g = gzip.open(path, 'rb')\n",
    "    for l in g:\n",
    "        json_content = json.loads(l)\n",
    "        \n",
    "        yield json_content\n",
    "\n",
    "def getDF(path):\n",
    "    \"\"\"\n",
    "    Create a DataFrame from JSON content\n",
    "    \n",
    "    # Arguments:\n",
    "        path: string, absolute path to the dataset\n",
    "    \n",
    "    # Returns:\n",
    "        df: pandas.DataFrame, the loaded dataset in a DataFrame format\n",
    "    \n",
    "    \"\"\"\n",
    "    \n",
    "    i = 0\n",
    "    df = {}\n",
    "    \n",
    "    for d in parse(path):\n",
    "        df[i] = d\n",
    "    \n",
    "        i += 1\n",
    "      \n",
    "    return pd.DataFrame.from_dict(df, orient='index')"
   ]
  },
  {
   "cell_type": "code",
   "execution_count": 3,
   "metadata": {},
   "outputs": [
    {
     "name": "stdout",
     "output_type": "stream",
     "text": [
      "Number of observations: 371345\n",
      "First 5 rows:\n"
     ]
    },
    {
     "data": {
      "text/html": [
       "<div>\n",
       "<style scoped>\n",
       "    .dataframe tbody tr th:only-of-type {\n",
       "        vertical-align: middle;\n",
       "    }\n",
       "\n",
       "    .dataframe tbody tr th {\n",
       "        vertical-align: top;\n",
       "    }\n",
       "\n",
       "    .dataframe thead th {\n",
       "        text-align: right;\n",
       "    }\n",
       "</style>\n",
       "<table border=\"1\" class=\"dataframe\">\n",
       "  <thead>\n",
       "    <tr style=\"text-align: right;\">\n",
       "      <th></th>\n",
       "      <th>overall</th>\n",
       "      <th>verified</th>\n",
       "      <th>reviewTime</th>\n",
       "      <th>reviewerID</th>\n",
       "      <th>asin</th>\n",
       "      <th>reviewerName</th>\n",
       "      <th>reviewText</th>\n",
       "      <th>summary</th>\n",
       "      <th>unixReviewTime</th>\n",
       "      <th>vote</th>\n",
       "      <th>style</th>\n",
       "      <th>image</th>\n",
       "    </tr>\n",
       "  </thead>\n",
       "  <tbody>\n",
       "    <tr>\n",
       "      <th>0</th>\n",
       "      <td>1.0</td>\n",
       "      <td>True</td>\n",
       "      <td>02 19, 2015</td>\n",
       "      <td>A1V6B6TNIC10QE</td>\n",
       "      <td>0143026860</td>\n",
       "      <td>theodore j bigham</td>\n",
       "      <td>great</td>\n",
       "      <td>One Star</td>\n",
       "      <td>1424304000</td>\n",
       "      <td>NaN</td>\n",
       "      <td>NaN</td>\n",
       "      <td>NaN</td>\n",
       "    </tr>\n",
       "    <tr>\n",
       "      <th>1</th>\n",
       "      <td>4.0</td>\n",
       "      <td>True</td>\n",
       "      <td>12 18, 2014</td>\n",
       "      <td>A2F5GHSXFQ0W6J</td>\n",
       "      <td>0143026860</td>\n",
       "      <td>Mary K. Byke</td>\n",
       "      <td>My  husband wanted to reading about the Negro ...</td>\n",
       "      <td>... to reading about the Negro Baseball and th...</td>\n",
       "      <td>1418860800</td>\n",
       "      <td>NaN</td>\n",
       "      <td>NaN</td>\n",
       "      <td>NaN</td>\n",
       "    </tr>\n",
       "    <tr>\n",
       "      <th>2</th>\n",
       "      <td>4.0</td>\n",
       "      <td>True</td>\n",
       "      <td>08 10, 2014</td>\n",
       "      <td>A1572GUYS7DGSR</td>\n",
       "      <td>0143026860</td>\n",
       "      <td>David G</td>\n",
       "      <td>This book was very informative, covering all a...</td>\n",
       "      <td>Worth the Read</td>\n",
       "      <td>1407628800</td>\n",
       "      <td>NaN</td>\n",
       "      <td>NaN</td>\n",
       "      <td>NaN</td>\n",
       "    </tr>\n",
       "    <tr>\n",
       "      <th>3</th>\n",
       "      <td>5.0</td>\n",
       "      <td>True</td>\n",
       "      <td>03 11, 2013</td>\n",
       "      <td>A1PSGLFK1NSVO</td>\n",
       "      <td>0143026860</td>\n",
       "      <td>TamB</td>\n",
       "      <td>I am already a baseball fan and knew a bit abo...</td>\n",
       "      <td>Good Read</td>\n",
       "      <td>1362960000</td>\n",
       "      <td>NaN</td>\n",
       "      <td>NaN</td>\n",
       "      <td>NaN</td>\n",
       "    </tr>\n",
       "    <tr>\n",
       "      <th>4</th>\n",
       "      <td>5.0</td>\n",
       "      <td>True</td>\n",
       "      <td>12 25, 2011</td>\n",
       "      <td>A6IKXKZMTKGSC</td>\n",
       "      <td>0143026860</td>\n",
       "      <td>shoecanary</td>\n",
       "      <td>This was a good story of the Black leagues. I ...</td>\n",
       "      <td>More than facts, a good story read!</td>\n",
       "      <td>1324771200</td>\n",
       "      <td>5</td>\n",
       "      <td>NaN</td>\n",
       "      <td>NaN</td>\n",
       "    </tr>\n",
       "  </tbody>\n",
       "</table>\n",
       "</div>"
      ],
      "text/plain": [
       "   overall  verified   reviewTime      reviewerID        asin  \\\n",
       "0      1.0      True  02 19, 2015  A1V6B6TNIC10QE  0143026860   \n",
       "1      4.0      True  12 18, 2014  A2F5GHSXFQ0W6J  0143026860   \n",
       "2      4.0      True  08 10, 2014  A1572GUYS7DGSR  0143026860   \n",
       "3      5.0      True  03 11, 2013   A1PSGLFK1NSVO  0143026860   \n",
       "4      5.0      True  12 25, 2011   A6IKXKZMTKGSC  0143026860   \n",
       "\n",
       "        reviewerName                                         reviewText  \\\n",
       "0  theodore j bigham                                              great   \n",
       "1       Mary K. Byke  My  husband wanted to reading about the Negro ...   \n",
       "2            David G  This book was very informative, covering all a...   \n",
       "3               TamB  I am already a baseball fan and knew a bit abo...   \n",
       "4         shoecanary  This was a good story of the Black leagues. I ...   \n",
       "\n",
       "                                             summary  unixReviewTime vote  \\\n",
       "0                                           One Star      1424304000  NaN   \n",
       "1  ... to reading about the Negro Baseball and th...      1418860800  NaN   \n",
       "2                                     Worth the Read      1407628800  NaN   \n",
       "3                                          Good Read      1362960000  NaN   \n",
       "4                More than facts, a good story read!      1324771200    5   \n",
       "\n",
       "  style image  \n",
       "0   NaN   NaN  \n",
       "1   NaN   NaN  \n",
       "2   NaN   NaN  \n",
       "3   NaN   NaN  \n",
       "4   NaN   NaN  "
      ]
     },
     "execution_count": 3,
     "metadata": {},
     "output_type": "execute_result"
    }
   ],
   "source": [
    "# load dataset\n",
    "df = getDF('data/All_Beauty.json.gz')\n",
    "\n",
    "print(\"Number of observations:\", len(df))\n",
    "print('First 5 rows:')\n",
    "df.head()"
   ]
  },
  {
   "cell_type": "markdown",
   "metadata": {},
   "source": [
    "According to the official website, each column headers tell us about:\n",
    "<ul>\n",
    "    <li>reviewerID - ID of the reviewer, e.g. A2SUAM1J3GNN3B</li>\n",
    "    <li>asin - ID of the product, e.g. 0000013714</li>\n",
    "    <li>reviewerName - name of the reviewer</li>\n",
    "    <li>vote - helpful votes of the review</li>\n",
    "    <li>style - a disctionary of the product metadata, e.g., \"Format\" is \"Hardcover\"</li>\n",
    "    <li>reviewText - text of the review</li>\n",
    "    <li>overall - rating of the product</li>\n",
    "    <li>summary - summary of the review</li>\n",
    "    <li>unixReviewTime - time of the review (unix time)</li>\n",
    "    <li>reviewTime - time of the review (raw)</li>\n",
    "    <li>image - images that users post after they have received the product</li>\n",
    "</ul>\n",
    "\n",
    "Meanwhile, our workflow can be described as follows:\n",
    "1. A user rates an item/a product\n",
    "2. Ratings are considered as the user's level of interest/satisfaction on a specific item\n",
    "3. The system will find similar ratings from differrent users against a user\n",
    "4. Finally, the system recommends item(s) that have high ratings, but not yet rated by this user\n",
    "\n",
    "Thus, according to the workflow above, we can conclude that `overall` and `reviewerName` are the only columns that have high impact in training our recommendation system model."
   ]
  },
  {
   "cell_type": "markdown",
   "metadata": {},
   "source": [
    "### 2. Explore and Analyze Dataset\n",
    "Let's explore and analyze the data a little bit. Pandas has provided some useful functions that I can utilize"
   ]
  },
  {
   "cell_type": "code",
   "execution_count": 4,
   "metadata": {},
   "outputs": [
    {
     "data": {
      "text/html": [
       "<div>\n",
       "<style scoped>\n",
       "    .dataframe tbody tr th:only-of-type {\n",
       "        vertical-align: middle;\n",
       "    }\n",
       "\n",
       "    .dataframe tbody tr th {\n",
       "        vertical-align: top;\n",
       "    }\n",
       "\n",
       "    .dataframe thead th {\n",
       "        text-align: right;\n",
       "    }\n",
       "</style>\n",
       "<table border=\"1\" class=\"dataframe\">\n",
       "  <thead>\n",
       "    <tr style=\"text-align: right;\">\n",
       "      <th></th>\n",
       "      <th>overall</th>\n",
       "      <th>unixReviewTime</th>\n",
       "    </tr>\n",
       "  </thead>\n",
       "  <tbody>\n",
       "    <tr>\n",
       "      <th>count</th>\n",
       "      <td>371345.000000</td>\n",
       "      <td>3.713450e+05</td>\n",
       "    </tr>\n",
       "    <tr>\n",
       "      <th>mean</th>\n",
       "      <td>4.112093</td>\n",
       "      <td>1.440742e+09</td>\n",
       "    </tr>\n",
       "    <tr>\n",
       "      <th>std</th>\n",
       "      <td>1.362099</td>\n",
       "      <td>6.962743e+07</td>\n",
       "    </tr>\n",
       "    <tr>\n",
       "      <th>min</th>\n",
       "      <td>1.000000</td>\n",
       "      <td>9.474624e+08</td>\n",
       "    </tr>\n",
       "    <tr>\n",
       "      <th>25%</th>\n",
       "      <td>4.000000</td>\n",
       "      <td>1.416096e+09</td>\n",
       "    </tr>\n",
       "    <tr>\n",
       "      <th>50%</th>\n",
       "      <td>5.000000</td>\n",
       "      <td>1.456963e+09</td>\n",
       "    </tr>\n",
       "    <tr>\n",
       "      <th>75%</th>\n",
       "      <td>5.000000</td>\n",
       "      <td>1.485562e+09</td>\n",
       "    </tr>\n",
       "    <tr>\n",
       "      <th>max</th>\n",
       "      <td>5.000000</td>\n",
       "      <td>1.538438e+09</td>\n",
       "    </tr>\n",
       "  </tbody>\n",
       "</table>\n",
       "</div>"
      ],
      "text/plain": [
       "             overall  unixReviewTime\n",
       "count  371345.000000    3.713450e+05\n",
       "mean        4.112093    1.440742e+09\n",
       "std         1.362099    6.962743e+07\n",
       "min         1.000000    9.474624e+08\n",
       "25%         4.000000    1.416096e+09\n",
       "50%         5.000000    1.456963e+09\n",
       "75%         5.000000    1.485562e+09\n",
       "max         5.000000    1.538438e+09"
      ]
     },
     "execution_count": 4,
     "metadata": {},
     "output_type": "execute_result"
    }
   ],
   "source": [
    "df.describe()"
   ]
  },
  {
   "cell_type": "markdown",
   "metadata": {},
   "source": [
    "`object` data types can be in form of strings, lists, dictionaries, etc."
   ]
  },
  {
   "cell_type": "code",
   "execution_count": 5,
   "metadata": {},
   "outputs": [
    {
     "data": {
      "text/plain": [
       "overall           float64\n",
       "verified             bool\n",
       "reviewTime         object\n",
       "reviewerID         object\n",
       "asin               object\n",
       "reviewerName       object\n",
       "reviewText         object\n",
       "summary            object\n",
       "unixReviewTime      int64\n",
       "vote               object\n",
       "style              object\n",
       "image              object\n",
       "dtype: object"
      ]
     },
     "execution_count": 5,
     "metadata": {},
     "output_type": "execute_result"
    }
   ],
   "source": [
    "df.dtypes"
   ]
  },
  {
   "cell_type": "markdown",
   "metadata": {},
   "source": [
    "Since `overall` column tells us about user ratings, we have to make sure that there are no empty/NaN values."
   ]
  },
  {
   "cell_type": "code",
   "execution_count": 6,
   "metadata": {},
   "outputs": [
    {
     "name": "stdout",
     "output_type": "stream",
     "text": [
      "Overall empty values count: 0\n"
     ]
    }
   ],
   "source": [
    "print(\"Overall empty values count:\", np.sum(pd.isnull(df['overall'])))"
   ]
  },
  {
   "cell_type": "markdown",
   "metadata": {},
   "source": [
    "Great, we can see that the output '0' means we have no empty values inside `overall` column.<br>\n",
    "How about other columns?"
   ]
  },
  {
   "cell_type": "code",
   "execution_count": 7,
   "metadata": {},
   "outputs": [
    {
     "name": "stdout",
     "output_type": "stream",
     "text": [
      "verified empty values count: 0\n",
      "reviewTime empty values count: 0\n",
      "reviewerID empty values count: 0\n",
      "asin empty values count: 0\n",
      "reviewerName empty values count: 38\n",
      "reviewText empty values count: 399\n",
      "summary empty values count: 206\n",
      "unixReviewTime empty values count: 0\n",
      "vote empty values count: 319446\n",
      "style empty values count: 245387\n",
      "image empty values count: 362954\n"
     ]
    }
   ],
   "source": [
    "# count how many empty values each column has\n",
    "for c in df.columns:\n",
    "    if c == 'overall':\n",
    "        continue\n",
    "    print(\"{} empty values count: {}\".format(c, np.sum(pd.isnull(df[c]))))"
   ]
  },
  {
   "cell_type": "markdown",
   "metadata": {},
   "source": [
    "There are some empty/NaN values here and there. Since the only columns we care about are `overall` and `reviewerName`, we can drop them later.<br>\n",
    "Nevertheless, it is a great common practice to fill any empty values with a default value (e.g. empty string `''`)"
   ]
  },
  {
   "cell_type": "code",
   "execution_count": 8,
   "metadata": {},
   "outputs": [],
   "source": [
    "df = df.fillna('') # fill empty/NaN values with empty strings ('')\n",
    "df = df.drop(['verified', 'reviewTime', 'unixReviewTime', 'vote', 'style', 'image'], axis=1) # drop unused columns"
   ]
  },
  {
   "cell_type": "markdown",
   "metadata": {},
   "source": [
    "Let's check the final preprocessed and cleaned dataset"
   ]
  },
  {
   "cell_type": "code",
   "execution_count": 9,
   "metadata": {},
   "outputs": [
    {
     "data": {
      "text/html": [
       "<div>\n",
       "<style scoped>\n",
       "    .dataframe tbody tr th:only-of-type {\n",
       "        vertical-align: middle;\n",
       "    }\n",
       "\n",
       "    .dataframe tbody tr th {\n",
       "        vertical-align: top;\n",
       "    }\n",
       "\n",
       "    .dataframe thead th {\n",
       "        text-align: right;\n",
       "    }\n",
       "</style>\n",
       "<table border=\"1\" class=\"dataframe\">\n",
       "  <thead>\n",
       "    <tr style=\"text-align: right;\">\n",
       "      <th></th>\n",
       "      <th>overall</th>\n",
       "      <th>reviewerID</th>\n",
       "      <th>asin</th>\n",
       "      <th>reviewerName</th>\n",
       "      <th>reviewText</th>\n",
       "      <th>summary</th>\n",
       "    </tr>\n",
       "  </thead>\n",
       "  <tbody>\n",
       "    <tr>\n",
       "      <th>0</th>\n",
       "      <td>1.0</td>\n",
       "      <td>A1V6B6TNIC10QE</td>\n",
       "      <td>0143026860</td>\n",
       "      <td>theodore j bigham</td>\n",
       "      <td>great</td>\n",
       "      <td>One Star</td>\n",
       "    </tr>\n",
       "    <tr>\n",
       "      <th>1</th>\n",
       "      <td>4.0</td>\n",
       "      <td>A2F5GHSXFQ0W6J</td>\n",
       "      <td>0143026860</td>\n",
       "      <td>Mary K. Byke</td>\n",
       "      <td>My  husband wanted to reading about the Negro ...</td>\n",
       "      <td>... to reading about the Negro Baseball and th...</td>\n",
       "    </tr>\n",
       "    <tr>\n",
       "      <th>2</th>\n",
       "      <td>4.0</td>\n",
       "      <td>A1572GUYS7DGSR</td>\n",
       "      <td>0143026860</td>\n",
       "      <td>David G</td>\n",
       "      <td>This book was very informative, covering all a...</td>\n",
       "      <td>Worth the Read</td>\n",
       "    </tr>\n",
       "    <tr>\n",
       "      <th>3</th>\n",
       "      <td>5.0</td>\n",
       "      <td>A1PSGLFK1NSVO</td>\n",
       "      <td>0143026860</td>\n",
       "      <td>TamB</td>\n",
       "      <td>I am already a baseball fan and knew a bit abo...</td>\n",
       "      <td>Good Read</td>\n",
       "    </tr>\n",
       "    <tr>\n",
       "      <th>4</th>\n",
       "      <td>5.0</td>\n",
       "      <td>A6IKXKZMTKGSC</td>\n",
       "      <td>0143026860</td>\n",
       "      <td>shoecanary</td>\n",
       "      <td>This was a good story of the Black leagues. I ...</td>\n",
       "      <td>More than facts, a good story read!</td>\n",
       "    </tr>\n",
       "  </tbody>\n",
       "</table>\n",
       "</div>"
      ],
      "text/plain": [
       "   overall      reviewerID        asin       reviewerName  \\\n",
       "0      1.0  A1V6B6TNIC10QE  0143026860  theodore j bigham   \n",
       "1      4.0  A2F5GHSXFQ0W6J  0143026860       Mary K. Byke   \n",
       "2      4.0  A1572GUYS7DGSR  0143026860            David G   \n",
       "3      5.0   A1PSGLFK1NSVO  0143026860               TamB   \n",
       "4      5.0   A6IKXKZMTKGSC  0143026860         shoecanary   \n",
       "\n",
       "                                          reviewText  \\\n",
       "0                                              great   \n",
       "1  My  husband wanted to reading about the Negro ...   \n",
       "2  This book was very informative, covering all a...   \n",
       "3  I am already a baseball fan and knew a bit abo...   \n",
       "4  This was a good story of the Black leagues. I ...   \n",
       "\n",
       "                                             summary  \n",
       "0                                           One Star  \n",
       "1  ... to reading about the Negro Baseball and th...  \n",
       "2                                     Worth the Read  \n",
       "3                                          Good Read  \n",
       "4                More than facts, a good story read!  "
      ]
     },
     "execution_count": 9,
     "metadata": {},
     "output_type": "execute_result"
    }
   ],
   "source": [
    "df.head()"
   ]
  },
  {
   "cell_type": "markdown",
   "metadata": {},
   "source": [
    "Looking good! We can proceed with the next step.<br>\n",
    "Next, for flexibility purposes, I store all users along with their names and UIDs in a `dict` called 'users'. This `dict` will makes the prediction phase easier (which I will explain later)"
   ]
  },
  {
   "cell_type": "code",
   "execution_count": 10,
   "metadata": {},
   "outputs": [
    {
     "name": "stdout",
     "output_type": "stream",
     "text": [
      "theodore j bigham A1V6B6TNIC10QE\n",
      "Mary K. Byke A2F5GHSXFQ0W6J\n",
      "David G A1572GUYS7DGSR\n",
      "TamB A1PSGLFK1NSVO\n",
      "shoecanary A6IKXKZMTKGSC\n",
      "W. Powell A36NF437WZLQ9E\n",
      "Robert S. Clay Jr. A10Q8NIFOVOHFV\n",
      "Jacqueline Diaz A26PO1B2Q2G1CS\n",
      "Khadijah Ali-Evans AQ812VYVTC2RJ\n",
      "rabiyaa123 AMACNEW14ADMX\n",
      "Lilly A5FS4FVWR77O6\n",
      "igzotikvet A1NLF2JD7BVOB4\n",
      "M. Morretti A3CKVF2ZR1CBO0\n",
      "Amazon Customer A3IFT6SR16SAYU\n",
      "Zury M. A2BQ7NB90SBVIA\n",
      "Shenia Morris A92AYWTA52KXE\n",
      "Amazon Customer A3IFT6SR16SAYU\n",
      "Alex G A2V9BG2MDQVCYX\n",
      "TSENG TSUNG-CHIN AIL9Q82L1G2YO\n",
      "Nikolai G. J. Geier A1ROGN2QPKZGP7\n"
     ]
    }
   ],
   "source": [
    "users = {} # dict of users\n",
    "\n",
    "# fill users dict according to their names and UIDs\n",
    "for name,uid in zip(df['reviewerName'], df['reviewerID']):\n",
    "    if name not in users:\n",
    "        users[name] = uid\n",
    "\n",
    "# display the first 20 users\n",
    "for i, n in enumerate(df['reviewerName']):\n",
    "    if i == 20:\n",
    "        break\n",
    "    print(n, users[n])\n",
    "    "
   ]
  },
  {
   "cell_type": "markdown",
   "metadata": {},
   "source": [
    "### 3. Model Training\n",
    "We will use `scikit-surprise` to implement colaborative filtering and train our model"
   ]
  },
  {
   "cell_type": "code",
   "execution_count": 11,
   "metadata": {},
   "outputs": [],
   "source": [
    "# Uncomment and run code below to install scikit-surprise\n",
    "#!pip installl scikit-surprise"
   ]
  },
  {
   "cell_type": "code",
   "execution_count": 12,
   "metadata": {},
   "outputs": [],
   "source": [
    "from surprise import Reader, Dataset, SVD\n",
    "from surprise.model_selection.validation import cross_validate"
   ]
  },
  {
   "cell_type": "code",
   "execution_count": 13,
   "metadata": {},
   "outputs": [],
   "source": [
    "reader = Reader() # content parser inside the dataset\n",
    "data = Dataset.load_from_df(df[['reviewerID', 'asin', 'overall']], reader) # load our DataFrame 'df' dataset to be fed to the model\n",
    "svd_model = SVD() # our model instance, built with SVD. We can also build different models like Probabilistic Matrix Factorization (PMF) or Non-negative Matrix Factorization (NMF)"
   ]
  },
  {
   "cell_type": "markdown",
   "metadata": {},
   "source": [
    "`Reader()` class will parse the file containing users, products, and ratings.<br>\n",
    "Once the model is ready, we can evaluate the model by implementing k-fold cross-validation."
   ]
  },
  {
   "cell_type": "code",
   "execution_count": 14,
   "metadata": {},
   "outputs": [
    {
     "name": "stdout",
     "output_type": "stream",
     "text": [
      "Evaluating RMSE, MAE of algorithm SVD on 5 split(s).\n",
      "\n",
      "                  Fold 1  Fold 2  Fold 3  Fold 4  Fold 5  Mean    Std     \n",
      "RMSE (testset)    1.2530  1.2559  1.2565  1.2577  1.2501  1.2546  0.0027  \n",
      "MAE (testset)     0.9708  0.9714  0.9734  0.9730  0.9680  0.9713  0.0019  \n",
      "Fit time          12.99   12.99   13.14   13.34   13.27   13.15   0.14    \n",
      "Test time         0.31    0.31    0.33    0.33    0.33    0.32    0.01    \n"
     ]
    },
    {
     "data": {
      "text/plain": [
       "{'test_rmse': array([1.25303686, 1.25587946, 1.25649284, 1.25765975, 1.25006423]),\n",
       " 'test_mae': array([0.97080472, 0.97135474, 0.97337209, 0.97301144, 0.96803664]),\n",
       " 'fit_time': (12.990058660507202,\n",
       "  12.994434118270874,\n",
       "  13.136275053024292,\n",
       "  13.344036102294922,\n",
       "  13.270441770553589),\n",
       " 'test_time': (0.308274507522583,\n",
       "  0.31319665908813477,\n",
       "  0.3268883228302002,\n",
       "  0.3254354000091553,\n",
       "  0.33092427253723145)}"
      ]
     },
     "execution_count": 14,
     "metadata": {},
     "output_type": "execute_result"
    }
   ],
   "source": [
    "# Run 5-fold cross-validation and print results\n",
    "cross_validate(svd_model, data, measures=['RMSE', 'MAE'], cv=5, verbose=True)"
   ]
  },
  {
   "cell_type": "markdown",
   "metadata": {},
   "source": [
    "We can also retrain our model with the entire training dataset"
   ]
  },
  {
   "cell_type": "code",
   "execution_count": 15,
   "metadata": {},
   "outputs": [
    {
     "data": {
      "text/plain": [
       "<surprise.prediction_algorithms.matrix_factorization.SVD at 0x1b559bebeb0>"
      ]
     },
     "execution_count": 15,
     "metadata": {},
     "output_type": "execute_result"
    }
   ],
   "source": [
    "new_training_set = data.build_full_trainset()\n",
    "svd_model.fit(new_training_set)"
   ]
  },
  {
   "cell_type": "markdown",
   "metadata": {},
   "source": [
    "### 4. Model Prediction\n",
    "Before we get into the predicting step, we need to load the metadata dataset because this dataset contains all products' name, description, brand, price, etc."
   ]
  },
  {
   "cell_type": "code",
   "execution_count": 16,
   "metadata": {},
   "outputs": [],
   "source": [
    "# load metadata dataset\n",
    "metadata = getDF('data/meta_All_Beauty.json.gz')"
   ]
  },
  {
   "cell_type": "code",
   "execution_count": 17,
   "metadata": {},
   "outputs": [
    {
     "data": {
      "text/html": [
       "<div>\n",
       "<style scoped>\n",
       "    .dataframe tbody tr th:only-of-type {\n",
       "        vertical-align: middle;\n",
       "    }\n",
       "\n",
       "    .dataframe tbody tr th {\n",
       "        vertical-align: top;\n",
       "    }\n",
       "\n",
       "    .dataframe thead th {\n",
       "        text-align: right;\n",
       "    }\n",
       "</style>\n",
       "<table border=\"1\" class=\"dataframe\">\n",
       "  <thead>\n",
       "    <tr style=\"text-align: right;\">\n",
       "      <th></th>\n",
       "      <th>category</th>\n",
       "      <th>tech1</th>\n",
       "      <th>description</th>\n",
       "      <th>fit</th>\n",
       "      <th>title</th>\n",
       "      <th>also_buy</th>\n",
       "      <th>image</th>\n",
       "      <th>tech2</th>\n",
       "      <th>brand</th>\n",
       "      <th>feature</th>\n",
       "      <th>rank</th>\n",
       "      <th>also_view</th>\n",
       "      <th>details</th>\n",
       "      <th>main_cat</th>\n",
       "      <th>similar_item</th>\n",
       "      <th>date</th>\n",
       "      <th>price</th>\n",
       "      <th>asin</th>\n",
       "    </tr>\n",
       "  </thead>\n",
       "  <tbody>\n",
       "    <tr>\n",
       "      <th>0</th>\n",
       "      <td>[]</td>\n",
       "      <td></td>\n",
       "      <td>[Loud 'N Clear Personal Sound Amplifier allows...</td>\n",
       "      <td></td>\n",
       "      <td>Loud 'N Clear&amp;trade; Personal Sound Amplifier</td>\n",
       "      <td>[]</td>\n",
       "      <td>[]</td>\n",
       "      <td></td>\n",
       "      <td>idea village</td>\n",
       "      <td>[]</td>\n",
       "      <td>2,938,573 in Beauty &amp; Personal Care (</td>\n",
       "      <td>[]</td>\n",
       "      <td>{'ASIN: ': '6546546450'}</td>\n",
       "      <td>All Beauty</td>\n",
       "      <td></td>\n",
       "      <td></td>\n",
       "      <td></td>\n",
       "      <td>6546546450</td>\n",
       "    </tr>\n",
       "    <tr>\n",
       "      <th>1</th>\n",
       "      <td>[]</td>\n",
       "      <td></td>\n",
       "      <td>[No7 Lift &amp; Luminate Triple Action Serum 50ml ...</td>\n",
       "      <td></td>\n",
       "      <td>No7 Lift &amp;amp; Luminate Triple Action Serum 50...</td>\n",
       "      <td>[B01E7LCSL6, B008X5RVME]</td>\n",
       "      <td>[]</td>\n",
       "      <td></td>\n",
       "      <td></td>\n",
       "      <td>[]</td>\n",
       "      <td>872,854 in Beauty &amp; Personal Care (</td>\n",
       "      <td>[]</td>\n",
       "      <td>{'Shipping Weight:': '0.3 ounces (', 'ASIN: ':...</td>\n",
       "      <td>All Beauty</td>\n",
       "      <td>class=\"a-bordered a-horizontal-stripes  a-spa...</td>\n",
       "      <td></td>\n",
       "      <td>$44.99</td>\n",
       "      <td>7178680776</td>\n",
       "    </tr>\n",
       "    <tr>\n",
       "      <th>2</th>\n",
       "      <td>[]</td>\n",
       "      <td></td>\n",
       "      <td>[No7 Stay Perfect Foundation now stays perfect...</td>\n",
       "      <td></td>\n",
       "      <td>No7 Stay Perfect Foundation Cool Vanilla by No7</td>\n",
       "      <td>[]</td>\n",
       "      <td>[]</td>\n",
       "      <td></td>\n",
       "      <td>No7</td>\n",
       "      <td>[]</td>\n",
       "      <td>956,696 in Beauty &amp; Personal Care (</td>\n",
       "      <td>[B01B8BR0O8, B01B8BR0NO, B014MHXXM8]</td>\n",
       "      <td>{'Shipping Weight:': '3.5 ounces (', 'ASIN: ':...</td>\n",
       "      <td>All Beauty</td>\n",
       "      <td></td>\n",
       "      <td></td>\n",
       "      <td>$28.76</td>\n",
       "      <td>7250468162</td>\n",
       "    </tr>\n",
       "    <tr>\n",
       "      <th>3</th>\n",
       "      <td>[]</td>\n",
       "      <td></td>\n",
       "      <td>[]</td>\n",
       "      <td></td>\n",
       "      <td>Wella Koleston Perfect Hair Colour 44/44 Mediu...</td>\n",
       "      <td>[B0041PBXX8]</td>\n",
       "      <td>[https://images-na.ssl-images-amazon.com/image...</td>\n",
       "      <td></td>\n",
       "      <td></td>\n",
       "      <td>[]</td>\n",
       "      <td>1,870,258 in Beauty &amp; Personal Care (</td>\n",
       "      <td>[]</td>\n",
       "      <td>{'\n",
       "    Item Weight: \n",
       "    ': '1.76 ounces', 'Sh...</td>\n",
       "      <td>All Beauty</td>\n",
       "      <td></td>\n",
       "      <td></td>\n",
       "      <td></td>\n",
       "      <td>7367905066</td>\n",
       "    </tr>\n",
       "    <tr>\n",
       "      <th>4</th>\n",
       "      <td>[]</td>\n",
       "      <td></td>\n",
       "      <td>[Lacto Calamine Skin Balance Daily Nourishing ...</td>\n",
       "      <td></td>\n",
       "      <td>Lacto Calamine Skin Balance Oil control 120 ml...</td>\n",
       "      <td>[]</td>\n",
       "      <td>[https://images-na.ssl-images-amazon.com/image...</td>\n",
       "      <td></td>\n",
       "      <td>Pirmal Healthcare</td>\n",
       "      <td>[]</td>\n",
       "      <td>67,701 in Beauty &amp; Personal Care (</td>\n",
       "      <td>[3254895630, B007VL1D9S, B00EH9A0RI, B0773MBG4...</td>\n",
       "      <td>{'Shipping Weight:': '12 ounces (', 'ASIN: ': ...</td>\n",
       "      <td>All Beauty</td>\n",
       "      <td></td>\n",
       "      <td></td>\n",
       "      <td>$12.15</td>\n",
       "      <td>7414204790</td>\n",
       "    </tr>\n",
       "  </tbody>\n",
       "</table>\n",
       "</div>"
      ],
      "text/plain": [
       "  category tech1                                        description fit  \\\n",
       "0       []        [Loud 'N Clear Personal Sound Amplifier allows...       \n",
       "1       []        [No7 Lift & Luminate Triple Action Serum 50ml ...       \n",
       "2       []        [No7 Stay Perfect Foundation now stays perfect...       \n",
       "3       []                                                       []       \n",
       "4       []        [Lacto Calamine Skin Balance Daily Nourishing ...       \n",
       "\n",
       "                                               title  \\\n",
       "0      Loud 'N Clear&trade; Personal Sound Amplifier   \n",
       "1  No7 Lift &amp; Luminate Triple Action Serum 50...   \n",
       "2    No7 Stay Perfect Foundation Cool Vanilla by No7   \n",
       "3  Wella Koleston Perfect Hair Colour 44/44 Mediu...   \n",
       "4  Lacto Calamine Skin Balance Oil control 120 ml...   \n",
       "\n",
       "                   also_buy  \\\n",
       "0                        []   \n",
       "1  [B01E7LCSL6, B008X5RVME]   \n",
       "2                        []   \n",
       "3              [B0041PBXX8]   \n",
       "4                        []   \n",
       "\n",
       "                                               image tech2              brand  \\\n",
       "0                                                 []             idea village   \n",
       "1                                                 []                            \n",
       "2                                                 []                      No7   \n",
       "3  [https://images-na.ssl-images-amazon.com/image...                            \n",
       "4  [https://images-na.ssl-images-amazon.com/image...        Pirmal Healthcare   \n",
       "\n",
       "  feature                                   rank  \\\n",
       "0      []  2,938,573 in Beauty & Personal Care (   \n",
       "1      []    872,854 in Beauty & Personal Care (   \n",
       "2      []    956,696 in Beauty & Personal Care (   \n",
       "3      []  1,870,258 in Beauty & Personal Care (   \n",
       "4      []     67,701 in Beauty & Personal Care (   \n",
       "\n",
       "                                           also_view  \\\n",
       "0                                                 []   \n",
       "1                                                 []   \n",
       "2               [B01B8BR0O8, B01B8BR0NO, B014MHXXM8]   \n",
       "3                                                 []   \n",
       "4  [3254895630, B007VL1D9S, B00EH9A0RI, B0773MBG4...   \n",
       "\n",
       "                                             details    main_cat  \\\n",
       "0                           {'ASIN: ': '6546546450'}  All Beauty   \n",
       "1  {'Shipping Weight:': '0.3 ounces (', 'ASIN: ':...  All Beauty   \n",
       "2  {'Shipping Weight:': '3.5 ounces (', 'ASIN: ':...  All Beauty   \n",
       "3  {'\n",
       "    Item Weight: \n",
       "    ': '1.76 ounces', 'Sh...  All Beauty   \n",
       "4  {'Shipping Weight:': '12 ounces (', 'ASIN: ': ...  All Beauty   \n",
       "\n",
       "                                        similar_item date   price        asin  \n",
       "0                                                                  6546546450  \n",
       "1   class=\"a-bordered a-horizontal-stripes  a-spa...       $44.99  7178680776  \n",
       "2                                                          $28.76  7250468162  \n",
       "3                                                                  7367905066  \n",
       "4                                                          $12.15  7414204790  "
      ]
     },
     "execution_count": 17,
     "metadata": {},
     "output_type": "execute_result"
    }
   ],
   "source": [
    "# shows top 5 rows\n",
    "metadata.head()"
   ]
  },
  {
   "cell_type": "markdown",
   "metadata": {},
   "source": [
    "For simplicity, I only show the 'product ID' (asin) and 'product name' (title) in the prediction phase"
   ]
  },
  {
   "cell_type": "code",
   "execution_count": 18,
   "metadata": {},
   "outputs": [
    {
     "data": {
      "text/html": [
       "<div>\n",
       "<style scoped>\n",
       "    .dataframe tbody tr th:only-of-type {\n",
       "        vertical-align: middle;\n",
       "    }\n",
       "\n",
       "    .dataframe tbody tr th {\n",
       "        vertical-align: top;\n",
       "    }\n",
       "\n",
       "    .dataframe thead th {\n",
       "        text-align: right;\n",
       "    }\n",
       "</style>\n",
       "<table border=\"1\" class=\"dataframe\">\n",
       "  <thead>\n",
       "    <tr style=\"text-align: right;\">\n",
       "      <th></th>\n",
       "      <th>asin</th>\n",
       "      <th>title</th>\n",
       "    </tr>\n",
       "  </thead>\n",
       "  <tbody>\n",
       "    <tr>\n",
       "      <th>0</th>\n",
       "      <td>6546546450</td>\n",
       "      <td>Loud 'N Clear&amp;trade; Personal Sound Amplifier</td>\n",
       "    </tr>\n",
       "    <tr>\n",
       "      <th>1</th>\n",
       "      <td>7178680776</td>\n",
       "      <td>No7 Lift &amp;amp; Luminate Triple Action Serum 50...</td>\n",
       "    </tr>\n",
       "    <tr>\n",
       "      <th>2</th>\n",
       "      <td>7250468162</td>\n",
       "      <td>No7 Stay Perfect Foundation Cool Vanilla by No7</td>\n",
       "    </tr>\n",
       "    <tr>\n",
       "      <th>3</th>\n",
       "      <td>7367905066</td>\n",
       "      <td>Wella Koleston Perfect Hair Colour 44/44 Mediu...</td>\n",
       "    </tr>\n",
       "    <tr>\n",
       "      <th>4</th>\n",
       "      <td>7414204790</td>\n",
       "      <td>Lacto Calamine Skin Balance Oil control 120 ml...</td>\n",
       "    </tr>\n",
       "  </tbody>\n",
       "</table>\n",
       "</div>"
      ],
      "text/plain": [
       "         asin                                              title\n",
       "0  6546546450      Loud 'N Clear&trade; Personal Sound Amplifier\n",
       "1  7178680776  No7 Lift &amp; Luminate Triple Action Serum 50...\n",
       "2  7250468162    No7 Stay Perfect Foundation Cool Vanilla by No7\n",
       "3  7367905066  Wella Koleston Perfect Hair Colour 44/44 Mediu...\n",
       "4  7414204790  Lacto Calamine Skin Balance Oil control 120 ml..."
      ]
     },
     "execution_count": 18,
     "metadata": {},
     "output_type": "execute_result"
    }
   ],
   "source": [
    "metadata = metadata[['asin', 'title']] # extract only product id and product name\n",
    "metadata.head()"
   ]
  },
  {
   "cell_type": "markdown",
   "metadata": {},
   "source": [
    "Recall that I made a `dict` called 'users' in the beginning of this notebook and this is where it gets very useful. On training phase, the model only recognizes UID (users' ID) instead of names. Hence, when making a prediction, we also need to feed in the user ID. 'users' `dict` will make our job easier so that we can enter a name and it will find its corresponding ID"
   ]
  },
  {
   "cell_type": "code",
   "execution_count": 19,
   "metadata": {},
   "outputs": [],
   "source": [
    "USER_NAME = 'Shenia Morris' # user name\n",
    "USER_ID = users[USER_NAME] # user ID\n",
    "\n",
    "# append 'recommendation_score' column in order to a make prediction\n",
    "metadata['recommendation_score'] = metadata['asin'].apply(lambda x: svd_model.predict(USER_ID, x).est)"
   ]
  },
  {
   "cell_type": "code",
   "execution_count": 20,
   "metadata": {},
   "outputs": [
    {
     "name": "stdout",
     "output_type": "stream",
     "text": [
      "Top 100 Recommendations for Shenia Morris:\n"
     ]
    },
    {
     "data": {
      "text/html": [
       "<div>\n",
       "<style scoped>\n",
       "    .dataframe tbody tr th:only-of-type {\n",
       "        vertical-align: middle;\n",
       "    }\n",
       "\n",
       "    .dataframe tbody tr th {\n",
       "        vertical-align: top;\n",
       "    }\n",
       "\n",
       "    .dataframe thead th {\n",
       "        text-align: right;\n",
       "    }\n",
       "</style>\n",
       "<table border=\"1\" class=\"dataframe\">\n",
       "  <thead>\n",
       "    <tr style=\"text-align: right;\">\n",
       "      <th></th>\n",
       "      <th>asin</th>\n",
       "      <th>title</th>\n",
       "      <th>recommendation_score</th>\n",
       "    </tr>\n",
       "  </thead>\n",
       "  <tbody>\n",
       "    <tr>\n",
       "      <th>1206</th>\n",
       "      <td>B000F8JKF8</td>\n",
       "      <td>EO Essential Oil Products Liquid Hand Soap Ros...</td>\n",
       "      <td>5.000000</td>\n",
       "    </tr>\n",
       "    <tr>\n",
       "      <th>11920</th>\n",
       "      <td>B00HS5BGO4</td>\n",
       "      <td>Green Soap 8oz Spray Bottle (Multiple Pack Opt...</td>\n",
       "      <td>5.000000</td>\n",
       "    </tr>\n",
       "    <tr>\n",
       "      <th>4036</th>\n",
       "      <td>B002ELYUNG</td>\n",
       "      <td>Cera di Cupra Rosa Face Cream (Dry Skin Formul...</td>\n",
       "      <td>5.000000</td>\n",
       "    </tr>\n",
       "    <tr>\n",
       "      <th>697</th>\n",
       "      <td>B00021DJ32</td>\n",
       "      <td>NARS Blush, Taj Mahal</td>\n",
       "      <td>5.000000</td>\n",
       "    </tr>\n",
       "    <tr>\n",
       "      <th>26295</th>\n",
       "      <td>B0195R1FT8</td>\n",
       "      <td>Booty Magic | Butt Enhancement Cream - 2 Month...</td>\n",
       "      <td>5.000000</td>\n",
       "    </tr>\n",
       "    <tr>\n",
       "      <th>...</th>\n",
       "      <td>...</td>\n",
       "      <td>...</td>\n",
       "      <td>...</td>\n",
       "    </tr>\n",
       "    <tr>\n",
       "      <th>14228</th>\n",
       "      <td>B00KQ12A0G</td>\n",
       "      <td>The Doctor's BrushPicks | Interdental Toothpic...</td>\n",
       "      <td>4.864380</td>\n",
       "    </tr>\n",
       "    <tr>\n",
       "      <th>29151</th>\n",
       "      <td>B01CTLTOHM</td>\n",
       "      <td>Unitrex - Aromafier Diffuser Refill Pads, (3-P...</td>\n",
       "      <td>4.863848</td>\n",
       "    </tr>\n",
       "    <tr>\n",
       "      <th>3887</th>\n",
       "      <td>B0028K3IWM</td>\n",
       "      <td>Gillette Clinical Strength Advanced Solid, All...</td>\n",
       "      <td>4.863734</td>\n",
       "    </tr>\n",
       "    <tr>\n",
       "      <th>4465</th>\n",
       "      <td>B003EERKK2</td>\n",
       "      <td>Zest Aqua 4 oz Bar Soaps - 16 Bars</td>\n",
       "      <td>4.863618</td>\n",
       "    </tr>\n",
       "    <tr>\n",
       "      <th>17734</th>\n",
       "      <td>B00PYFW05O</td>\n",
       "      <td>The Best Eucalyptus Essential Oil-100% Pure- T...</td>\n",
       "      <td>4.862771</td>\n",
       "    </tr>\n",
       "  </tbody>\n",
       "</table>\n",
       "<p>100 rows × 3 columns</p>\n",
       "</div>"
      ],
      "text/plain": [
       "             asin                                              title  \\\n",
       "1206   B000F8JKF8  EO Essential Oil Products Liquid Hand Soap Ros...   \n",
       "11920  B00HS5BGO4  Green Soap 8oz Spray Bottle (Multiple Pack Opt...   \n",
       "4036   B002ELYUNG  Cera di Cupra Rosa Face Cream (Dry Skin Formul...   \n",
       "697    B00021DJ32                              NARS Blush, Taj Mahal   \n",
       "26295  B0195R1FT8  Booty Magic | Butt Enhancement Cream - 2 Month...   \n",
       "...           ...                                                ...   \n",
       "14228  B00KQ12A0G  The Doctor's BrushPicks | Interdental Toothpic...   \n",
       "29151  B01CTLTOHM  Unitrex - Aromafier Diffuser Refill Pads, (3-P...   \n",
       "3887   B0028K3IWM  Gillette Clinical Strength Advanced Solid, All...   \n",
       "4465   B003EERKK2                 Zest Aqua 4 oz Bar Soaps - 16 Bars   \n",
       "17734  B00PYFW05O  The Best Eucalyptus Essential Oil-100% Pure- T...   \n",
       "\n",
       "       recommendation_score  \n",
       "1206               5.000000  \n",
       "11920              5.000000  \n",
       "4036               5.000000  \n",
       "697                5.000000  \n",
       "26295              5.000000  \n",
       "...                     ...  \n",
       "14228              4.864380  \n",
       "29151              4.863848  \n",
       "3887               4.863734  \n",
       "4465               4.863618  \n",
       "17734              4.862771  \n",
       "\n",
       "[100 rows x 3 columns]"
      ]
     },
     "execution_count": 20,
     "metadata": {},
     "output_type": "execute_result"
    }
   ],
   "source": [
    "num_of_recommendations_to_show = 100 # show top 100 recommendations\n",
    "metadata = metadata.sort_values(by=['recommendation_score'], ascending=False) # sort by descending order (big to small recommendation_score)\n",
    "\n",
    "print('Top {} Recommendations for {}:'.format(num_of_recommendations_to_show, USER_NAME))\n",
    "recommendations = metadata.head(num_of_recommendations_to_show)\n",
    "recommendations"
   ]
  },
  {
   "cell_type": "markdown",
   "metadata": {},
   "source": [
    "### 5. Saving Prediction\n",
    "Finally, save those predictions (recommendation list) into a Postgresql database. To do this, we need to install `psycopg2` library and setup a local database (https://www.postgresql.org/download/)"
   ]
  },
  {
   "cell_type": "code",
   "execution_count": 21,
   "metadata": {},
   "outputs": [],
   "source": [
    "# Uncomment and run this code below to install psycopg2 which can connect Python to Postgresql\n",
    "#!pip install psycopg2"
   ]
  },
  {
   "cell_type": "markdown",
   "metadata": {},
   "source": [
    "To make it more convenient, we can also make a configuration file to store connection parameters. In practice, developers often use `database.ini` which contains:\n",
    "\n",
    "```\n",
    "[postgresql]\n",
    "host=localhost\n",
    "database=db_name\n",
    "user=postgres\n",
    "password=admin\n",
    "```\n",
    "\n",
    "By doing this, we can change the configuration connection parameters when we move the code to production environment without making changes to the code"
   ]
  },
  {
   "cell_type": "code",
   "execution_count": 22,
   "metadata": {},
   "outputs": [],
   "source": [
    "import psycopg2\n",
    "\n",
    "def insert_recommendation_list(product_id_list, product_name_list):\n",
    "    \n",
    "    \"\"\"\n",
    "    Insert records (recommendation lists) into a Postgresql database\n",
    "    \n",
    "    # Arguments:\n",
    "        product_id_list: list, a list of product IDs\n",
    "        product_name_list: list, a list of product names\n",
    "    \n",
    "    # Outputs:\n",
    "        None\n",
    "    \"\"\"\n",
    "    \n",
    "    # SQL INSERT query\n",
    "    query = \"\"\"INSERT INTO recommendations(product_id_list, product_name_list)\n",
    "            VALUES(%s, %s)\"\"\"\n",
    "    \n",
    "    conn = None # set initial connection to null\n",
    "    \n",
    "    # initiate connection to database\n",
    "    try:\n",
    "        print('Connecting to database...')\n",
    "        conn = psycopg2.connect(host='localhost', # local connection\n",
    "                               database='kitabisa_db', # our DB name\n",
    "                               user='admin', # username\n",
    "                               password='k1t@B!$a') # password\n",
    "        cur = conn.cursor()\n",
    "        print('Inserting rows...')\n",
    "        cur.execute(sql, (product_id_list, product_name_list)) # execute INSERT command\n",
    "        conn.commit() # make changes to the database\n",
    "        cur.close()\n",
    "    \n",
    "    # throw an error if connection to database cannot be initiated\n",
    "    except(Exception, psycopg2.DatabaseError) as error:\n",
    "        print(error)\n",
    "    \n",
    "    # close database connection\n",
    "    finally:\n",
    "        if conn is not None:\n",
    "            print('Transaction completed, closing database connection...')\n",
    "            conn.close()"
   ]
  },
  {
   "cell_type": "code",
   "execution_count": 23,
   "metadata": {},
   "outputs": [],
   "source": [
    "insert_recommendation_list(recommendations['asin'].values.tolist(), recommendations['title'].values.tolist())"
   ]
  }
 ],
 "metadata": {
  "kernelspec": {
   "display_name": "Python 3",
   "language": "python",
   "name": "python3"
  },
  "language_info": {
   "codemirror_mode": {
    "name": "ipython",
    "version": 3
   },
   "file_extension": ".py",
   "mimetype": "text/x-python",
   "name": "python",
   "nbconvert_exporter": "python",
   "pygments_lexer": "ipython3",
   "version": "3.8.5"
  }
 },
 "nbformat": 4,
 "nbformat_minor": 4
}
