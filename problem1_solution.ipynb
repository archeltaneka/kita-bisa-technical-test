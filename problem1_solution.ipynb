{
 "cells": [
  {
   "cell_type": "markdown",
   "metadata": {},
   "source": [
    "# Problem I\n",
    "Ainun has 20 cakes and 25 apples. She wants to bundle those cakes and apples into boxes and give them to her friends. <b>How many boxes that Ainun can make? And how many cakes and apples does every box have?</b>\n",
    "<ol type=\"A\">\n",
    "    <li>Solve this problem using language you know and confident</li>\n",
    "    <li>Create function to count boxes Ainun can make</li>\n",
    "    <li>Create function to count how many cake and apple in a box</li>\n",
    "    <li>Create unit test for the function</li>\n",
    "    <li>Apples and cakes divided evenly every box</li>\n",
    "    <li>Don’t forget to make documentation</li>\n",
    "</ol>"
   ]
  },
  {
   "cell_type": "markdown",
   "metadata": {},
   "source": [
    "## Solution\n",
    "The solution to this problem is rather easy and straightforward. The requirements also stated that <b>\"Apples and cakes are divided evenly in every box.\"</b> This makes the problem easier, because we can safely assume that both the number of cakes and apples are equal in all boxes. Unless it says that the number of cakes and apples in every box does not have to be equal, then we need to find every possible combinations using greedy algorithm.<br>\n",
    "`We can use GCD (Greatest Common Divisor) a.k.a FPB (Faktor Persekutuan terBesar) to find the number of boxes`"
   ]
  },
  {
   "cell_type": "code",
   "execution_count": 1,
   "metadata": {},
   "outputs": [],
   "source": [
    "import math # gcd function from math library\n",
    "from problem1_unittest import Problem1UnitTest # unit test script\n",
    "\n",
    "# initialize the total number of cakes and apples\n",
    "CAKES = 20\n",
    "APPLES = 25"
   ]
  },
  {
   "cell_type": "code",
   "execution_count": 2,
   "metadata": {},
   "outputs": [],
   "source": [
    "def count_boxes(num_of_cakes, num_of_apples):\n",
    "    \"\"\"\n",
    "    Count the number of boxes that can be made\n",
    "    \n",
    "    # Arguments:\n",
    "        num_of_cakes: int, the number of total cakes\n",
    "        num_of_apples: int, the number of total apples\n",
    "        \n",
    "    # Outputs:\n",
    "        boxes: int, the number of total boxes\n",
    "    \n",
    "    \"\"\"\n",
    "    \n",
    "    boxes = math.gcd(num_of_cakes, num_of_apples) # simply use GCD (Greatest Common Divisor) to find the number of boxes that can be made\n",
    "    \n",
    "    return boxes"
   ]
  },
  {
   "cell_type": "code",
   "execution_count": 3,
   "metadata": {},
   "outputs": [],
   "source": [
    "def count_cakes_and_apples(num_of_boxes, num_of_cakes, num_of_apples):\n",
    "    \"\"\"\n",
    "    Count the number of cakes and apples in each box\n",
    "    \n",
    "    # Arguments:\n",
    "        num_of_boxes: int, the number of boxes from count_boxes returned value\n",
    "        num_of_cakes: int, the number of total cakes\n",
    "        num_of_apples: int, the number of total apples\n",
    "    \n",
    "    # Outputs:\n",
    "        (cakes, apples): tuple, the number of cakes and apples in each box respectively\n",
    "    \n",
    "    \"\"\"\n",
    "    \n",
    "    # since both cakes and apples must be equally divided across the boxes, use the integer division\n",
    "    cakes = num_of_cakes // num_of_boxes\n",
    "    apples = num_of_apples // num_of_boxes\n",
    "    \n",
    "    return (cakes, apples)"
   ]
  },
  {
   "cell_type": "code",
   "execution_count": 4,
   "metadata": {},
   "outputs": [
    {
     "name": "stdout",
     "output_type": "stream",
     "text": [
      "All unit tests passed!\n",
      "Number of boxes Ainun can make: 5\n",
      "Total cakes and apples inside a box respectively: 4 cakes 5 apples\n"
     ]
    }
   ],
   "source": [
    "boxes = count_boxes(CAKES, APPLES)\n",
    "cakes, apples = count_cakes_and_apples(boxes, CAKES, APPLES)\n",
    "\n",
    "# initiate the unit test class provided from 'problem1_unittest.py'\n",
    "unit_test = Problem1UnitTest()\n",
    "\n",
    "# run all unit tests for the values returned by both functions\n",
    "unit_test.positive_number_test(boxes, cakes, apples)\n",
    "unit_test.cake_test(boxes, cakes, CAKES)\n",
    "unit_test.apple_test(boxes, apples, APPLES)\n",
    "print('All unit tests passed!')\n",
    "\n",
    "print('Number of boxes Ainun can make:', boxes)\n",
    "print('Total cakes and apples inside a box respectively:', cakes, 'cakes', apples, 'apples')"
   ]
  },
  {
   "cell_type": "markdown",
   "metadata": {},
   "source": [
    "## Unit Test (Failed cases)\n",
    "\n",
    "I provided several 'failed' test cases to make sure that all unit tests function properly"
   ]
  },
  {
   "cell_type": "code",
   "execution_count": 5,
   "metadata": {},
   "outputs": [
    {
     "ename": "AssertionError",
     "evalue": "The number of boxes, apples, and cakes in the box should be greater than 0!",
     "output_type": "error",
     "traceback": [
      "\u001b[1;31m---------------------------------------------------------------------------\u001b[0m",
      "\u001b[1;31mAssertionError\u001b[0m                            Traceback (most recent call last)",
      "\u001b[1;32m<ipython-input-5-13c15b3332cb>\u001b[0m in \u001b[0;36m<module>\u001b[1;34m\u001b[0m\n\u001b[0;32m      4\u001b[0m \u001b[0mapples\u001b[0m \u001b[1;33m=\u001b[0m \u001b[1;36m0\u001b[0m\u001b[1;33m\u001b[0m\u001b[1;33m\u001b[0m\u001b[0m\n\u001b[0;32m      5\u001b[0m \u001b[1;33m\u001b[0m\u001b[0m\n\u001b[1;32m----> 6\u001b[1;33m \u001b[0munit_test\u001b[0m\u001b[1;33m.\u001b[0m\u001b[0mpositive_number_test\u001b[0m\u001b[1;33m(\u001b[0m\u001b[0mboxes\u001b[0m\u001b[1;33m,\u001b[0m \u001b[0mcakes\u001b[0m\u001b[1;33m,\u001b[0m \u001b[0mapples\u001b[0m\u001b[1;33m)\u001b[0m\u001b[1;33m\u001b[0m\u001b[1;33m\u001b[0m\u001b[0m\n\u001b[0m\u001b[0;32m      7\u001b[0m \u001b[0munit_test\u001b[0m\u001b[1;33m.\u001b[0m\u001b[0mcake_test\u001b[0m\u001b[1;33m(\u001b[0m\u001b[0mboxes\u001b[0m\u001b[1;33m,\u001b[0m \u001b[0mcakes\u001b[0m\u001b[1;33m,\u001b[0m \u001b[0mCAKES\u001b[0m\u001b[1;33m)\u001b[0m\u001b[1;33m\u001b[0m\u001b[1;33m\u001b[0m\u001b[0m\n\u001b[0;32m      8\u001b[0m \u001b[0munit_test\u001b[0m\u001b[1;33m.\u001b[0m\u001b[0mapple_test\u001b[0m\u001b[1;33m(\u001b[0m\u001b[0mboxes\u001b[0m\u001b[1;33m,\u001b[0m \u001b[0mapples\u001b[0m\u001b[1;33m,\u001b[0m \u001b[0mAPPLES\u001b[0m\u001b[1;33m)\u001b[0m\u001b[1;33m\u001b[0m\u001b[1;33m\u001b[0m\u001b[0m\n",
      "\u001b[1;32mD:\\Archel\\kitabisa\\problem1_unittest.py\u001b[0m in \u001b[0;36mpositive_number_test\u001b[1;34m(self, boxes, cakes, apples)\u001b[0m\n\u001b[0;32m     11\u001b[0m         \"\"\"\n\u001b[0;32m     12\u001b[0m \u001b[1;33m\u001b[0m\u001b[0m\n\u001b[1;32m---> 13\u001b[1;33m         \u001b[1;32massert\u001b[0m \u001b[0mboxes\u001b[0m \u001b[1;33m>\u001b[0m \u001b[1;36m0\u001b[0m \u001b[1;32mand\u001b[0m \u001b[0mcakes\u001b[0m \u001b[1;33m>\u001b[0m \u001b[1;36m0\u001b[0m \u001b[1;32mand\u001b[0m \u001b[0mapples\u001b[0m \u001b[1;33m>\u001b[0m \u001b[1;36m0\u001b[0m\u001b[1;33m,\u001b[0m \u001b[1;34m'The number of boxes, apples, and cakes in the box should be greater than 0!'\u001b[0m\u001b[1;33m\u001b[0m\u001b[1;33m\u001b[0m\u001b[0m\n\u001b[0m\u001b[0;32m     14\u001b[0m \u001b[1;33m\u001b[0m\u001b[0m\n\u001b[0;32m     15\u001b[0m     \u001b[1;32mdef\u001b[0m \u001b[0mcake_test\u001b[0m\u001b[1;33m(\u001b[0m\u001b[0mself\u001b[0m\u001b[1;33m,\u001b[0m \u001b[0mboxes\u001b[0m\u001b[1;33m,\u001b[0m \u001b[0mcakes\u001b[0m\u001b[1;33m,\u001b[0m \u001b[0mtotal_cakes\u001b[0m\u001b[1;33m)\u001b[0m\u001b[1;33m:\u001b[0m\u001b[1;33m\u001b[0m\u001b[1;33m\u001b[0m\u001b[0m\n",
      "\u001b[1;31mAssertionError\u001b[0m: The number of boxes, apples, and cakes in the box should be greater than 0!"
     ]
    }
   ],
   "source": [
    "# 0 or negative numbers case\n",
    "boxes = -1\n",
    "cakes = 0\n",
    "apples = 0\n",
    "\n",
    "unit_test.positive_number_test(boxes, cakes, apples)\n",
    "unit_test.cake_test(boxes, cakes, CAKES)\n",
    "unit_test.apple_test(boxes, apples, APPLES)\n",
    "print('All unit tests passed!')"
   ]
  },
  {
   "cell_type": "code",
   "execution_count": 6,
   "metadata": {},
   "outputs": [
    {
     "ename": "AssertionError",
     "evalue": "The number of apples in each box do not match!",
     "output_type": "error",
     "traceback": [
      "\u001b[1;31m---------------------------------------------------------------------------\u001b[0m",
      "\u001b[1;31mAssertionError\u001b[0m                            Traceback (most recent call last)",
      "\u001b[1;32m<ipython-input-6-9913c5083d00>\u001b[0m in \u001b[0;36m<module>\u001b[1;34m\u001b[0m\n\u001b[0;32m      6\u001b[0m \u001b[0munit_test\u001b[0m\u001b[1;33m.\u001b[0m\u001b[0mpositive_number_test\u001b[0m\u001b[1;33m(\u001b[0m\u001b[0mboxes\u001b[0m\u001b[1;33m,\u001b[0m \u001b[0mcakes\u001b[0m\u001b[1;33m,\u001b[0m \u001b[0mapples\u001b[0m\u001b[1;33m)\u001b[0m\u001b[1;33m\u001b[0m\u001b[1;33m\u001b[0m\u001b[0m\n\u001b[0;32m      7\u001b[0m \u001b[0munit_test\u001b[0m\u001b[1;33m.\u001b[0m\u001b[0mcake_test\u001b[0m\u001b[1;33m(\u001b[0m\u001b[0mboxes\u001b[0m\u001b[1;33m,\u001b[0m \u001b[0mcakes\u001b[0m\u001b[1;33m,\u001b[0m \u001b[0mCAKES\u001b[0m\u001b[1;33m)\u001b[0m\u001b[1;33m\u001b[0m\u001b[1;33m\u001b[0m\u001b[0m\n\u001b[1;32m----> 8\u001b[1;33m \u001b[0munit_test\u001b[0m\u001b[1;33m.\u001b[0m\u001b[0mapple_test\u001b[0m\u001b[1;33m(\u001b[0m\u001b[0mboxes\u001b[0m\u001b[1;33m,\u001b[0m \u001b[0mapples\u001b[0m\u001b[1;33m,\u001b[0m \u001b[0mAPPLES\u001b[0m\u001b[1;33m)\u001b[0m\u001b[1;33m\u001b[0m\u001b[1;33m\u001b[0m\u001b[0m\n\u001b[0m\u001b[0;32m      9\u001b[0m \u001b[0mprint\u001b[0m\u001b[1;33m(\u001b[0m\u001b[1;34m'All unit tests passed!'\u001b[0m\u001b[1;33m)\u001b[0m\u001b[1;33m\u001b[0m\u001b[1;33m\u001b[0m\u001b[0m\n",
      "\u001b[1;32mD:\\Archel\\kitabisa\\problem1_unittest.py\u001b[0m in \u001b[0;36mapple_test\u001b[1;34m(self, boxes, apples, total_apples)\u001b[0m\n\u001b[0;32m     25\u001b[0m         \"\"\"\n\u001b[0;32m     26\u001b[0m \u001b[1;33m\u001b[0m\u001b[0m\n\u001b[1;32m---> 27\u001b[1;33m         \u001b[1;32massert\u001b[0m \u001b[0mboxes\u001b[0m \u001b[1;33m*\u001b[0m \u001b[0mapples\u001b[0m \u001b[1;33m==\u001b[0m \u001b[0mtotal_apples\u001b[0m\u001b[1;33m,\u001b[0m \u001b[1;34m'The number of apples in each box do not match!'\u001b[0m\u001b[1;33m\u001b[0m\u001b[1;33m\u001b[0m\u001b[0m\n\u001b[0m",
      "\u001b[1;31mAssertionError\u001b[0m: The number of apples in each box do not match!"
     ]
    }
   ],
   "source": [
    "# unequal number of apples across the boxes case\n",
    "boxes = 10\n",
    "cakes = 2\n",
    "apples = 3\n",
    "\n",
    "unit_test.positive_number_test(boxes, cakes, apples)\n",
    "unit_test.cake_test(boxes, cakes, CAKES)\n",
    "unit_test.apple_test(boxes, apples, APPLES)\n",
    "print('All unit tests passed!')"
   ]
  },
  {
   "cell_type": "code",
   "execution_count": 7,
   "metadata": {},
   "outputs": [
    {
     "ename": "AssertionError",
     "evalue": "The number of cakes in each box do not match!",
     "output_type": "error",
     "traceback": [
      "\u001b[1;31m---------------------------------------------------------------------------\u001b[0m",
      "\u001b[1;31mAssertionError\u001b[0m                            Traceback (most recent call last)",
      "\u001b[1;32m<ipython-input-7-ec2523d7419b>\u001b[0m in \u001b[0;36m<module>\u001b[1;34m\u001b[0m\n\u001b[0;32m      5\u001b[0m \u001b[1;33m\u001b[0m\u001b[0m\n\u001b[0;32m      6\u001b[0m \u001b[0munit_test\u001b[0m\u001b[1;33m.\u001b[0m\u001b[0mpositive_number_test\u001b[0m\u001b[1;33m(\u001b[0m\u001b[0mboxes\u001b[0m\u001b[1;33m,\u001b[0m \u001b[0mcakes\u001b[0m\u001b[1;33m,\u001b[0m \u001b[0mapples\u001b[0m\u001b[1;33m)\u001b[0m\u001b[1;33m\u001b[0m\u001b[1;33m\u001b[0m\u001b[0m\n\u001b[1;32m----> 7\u001b[1;33m \u001b[0munit_test\u001b[0m\u001b[1;33m.\u001b[0m\u001b[0mcake_test\u001b[0m\u001b[1;33m(\u001b[0m\u001b[0mboxes\u001b[0m\u001b[1;33m,\u001b[0m \u001b[0mcakes\u001b[0m\u001b[1;33m,\u001b[0m \u001b[0mCAKES\u001b[0m\u001b[1;33m)\u001b[0m\u001b[1;33m\u001b[0m\u001b[1;33m\u001b[0m\u001b[0m\n\u001b[0m\u001b[0;32m      8\u001b[0m \u001b[0munit_test\u001b[0m\u001b[1;33m.\u001b[0m\u001b[0mapple_test\u001b[0m\u001b[1;33m(\u001b[0m\u001b[0mboxes\u001b[0m\u001b[1;33m,\u001b[0m \u001b[0mapples\u001b[0m\u001b[1;33m,\u001b[0m \u001b[0mAPPLES\u001b[0m\u001b[1;33m)\u001b[0m\u001b[1;33m\u001b[0m\u001b[1;33m\u001b[0m\u001b[0m\n\u001b[0;32m      9\u001b[0m \u001b[0mprint\u001b[0m\u001b[1;33m(\u001b[0m\u001b[1;34m'All unit tests passed!'\u001b[0m\u001b[1;33m)\u001b[0m\u001b[1;33m\u001b[0m\u001b[1;33m\u001b[0m\u001b[0m\n",
      "\u001b[1;32mD:\\Archel\\kitabisa\\problem1_unittest.py\u001b[0m in \u001b[0;36mcake_test\u001b[1;34m(self, boxes, cakes, total_cakes)\u001b[0m\n\u001b[0;32m     18\u001b[0m         \"\"\"\n\u001b[0;32m     19\u001b[0m \u001b[1;33m\u001b[0m\u001b[0m\n\u001b[1;32m---> 20\u001b[1;33m         \u001b[1;32massert\u001b[0m \u001b[0mboxes\u001b[0m \u001b[1;33m*\u001b[0m \u001b[0mcakes\u001b[0m \u001b[1;33m==\u001b[0m \u001b[0mtotal_cakes\u001b[0m\u001b[1;33m,\u001b[0m \u001b[1;34m'The number of cakes in each box do not match!'\u001b[0m\u001b[1;33m\u001b[0m\u001b[1;33m\u001b[0m\u001b[0m\n\u001b[0m\u001b[0;32m     21\u001b[0m \u001b[1;33m\u001b[0m\u001b[0m\n\u001b[0;32m     22\u001b[0m     \u001b[1;32mdef\u001b[0m \u001b[0mapple_test\u001b[0m\u001b[1;33m(\u001b[0m\u001b[0mself\u001b[0m\u001b[1;33m,\u001b[0m \u001b[0mboxes\u001b[0m\u001b[1;33m,\u001b[0m \u001b[0mapples\u001b[0m\u001b[1;33m,\u001b[0m \u001b[0mtotal_apples\u001b[0m\u001b[1;33m)\u001b[0m\u001b[1;33m:\u001b[0m\u001b[1;33m\u001b[0m\u001b[1;33m\u001b[0m\u001b[0m\n",
      "\u001b[1;31mAssertionError\u001b[0m: The number of cakes in each box do not match!"
     ]
    }
   ],
   "source": [
    "# unequal number of cakes across the boxes case\n",
    "boxes = 5\n",
    "cakes = 2\n",
    "apples = 5\n",
    "\n",
    "unit_test.positive_number_test(boxes, cakes, apples)\n",
    "unit_test.cake_test(boxes, cakes, CAKES)\n",
    "unit_test.apple_test(boxes, apples, APPLES)\n",
    "print('All unit tests passed!')"
   ]
  },
  {
   "cell_type": "code",
   "execution_count": null,
   "metadata": {},
   "outputs": [],
   "source": []
  }
 ],
 "metadata": {
  "kernelspec": {
   "display_name": "Python 3",
   "language": "python",
   "name": "python3"
  },
  "language_info": {
   "codemirror_mode": {
    "name": "ipython",
    "version": 3
   },
   "file_extension": ".py",
   "mimetype": "text/x-python",
   "name": "python",
   "nbconvert_exporter": "python",
   "pygments_lexer": "ipython3",
   "version": "3.8.5"
  }
 },
 "nbformat": 4,
 "nbformat_minor": 4
}
